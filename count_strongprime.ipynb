{
  "nbformat": 4,
  "nbformat_minor": 0,
  "metadata": {
    "colab": {
      "provenance": []
    },
    "kernelspec": {
      "name": "python3",
      "display_name": "Python 3"
    },
    "language_info": {
      "name": "python"
    }
  },
  "cells": [
    {
      "cell_type": "code",
      "execution_count": 4,
      "metadata": {
        "colab": {
          "base_uri": "https://localhost:8080/"
        },
        "id": "LC89v5_AYWbp",
        "outputId": "c8c73429-f864-4da2-c530-93378c3bd232"
      },
      "outputs": [
        {
          "output_type": "stream",
          "name": "stdout",
          "text": [
            "10 20\n",
            "7 11 13\n",
            "13 17 19\n",
            "2\n"
          ]
        }
      ],
      "source": [
        "from math import *\n",
        "def isprime(n):\n",
        "  if n<=1:\n",
        "    return False\n",
        "  if n==2 or n==3:\n",
        "    return True\n",
        "  if n%2==0 or n%3==0:\n",
        "    return False\n",
        "  for i in range(5,int(sqrt(n))+1,6):\n",
        "    if n%i==0 or n%(i+2)==0:\n",
        "      return False\n",
        "  return True\n",
        "def isstrong(n):\n",
        "  if isprime(n)==False or n==2:\n",
        "    return False\n",
        "  prev=n-1\n",
        "  next=n+1\n",
        "  while not isprime(prev):\n",
        "    prev-=1\n",
        "  while not isprime(next):\n",
        "    next+=1\n",
        "  mean=(prev+next)//2\n",
        "  if mean<=n:\n",
        "    print(prev,n,next)\n",
        "    return True\n",
        "  return False\n",
        "def fun(l,r):\n",
        "  count=0\n",
        "  for i in range(l,r+1):\n",
        "    if isstrong(i):\n",
        "      count+=1\n",
        "  return count\n",
        "\n",
        "l,r=map(int,input().split())\n",
        "print(fun(l,r))"
      ]
    }
  ]
}
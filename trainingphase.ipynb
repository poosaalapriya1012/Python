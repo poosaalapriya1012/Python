{
  "nbformat": 4,
  "nbformat_minor": 0,
  "metadata": {
    "colab": {
      "provenance": []
    },
    "kernelspec": {
      "name": "python3",
      "display_name": "Python 3"
    },
    "language_info": {
      "name": "python"
    }
  },
  "cells": [
    {
      "cell_type": "markdown",
      "source": [
        "#Day1\n"
      ],
      "metadata": {
        "id": "VDoqk7rVBmhb"
      }
    },
    {
      "cell_type": "code",
      "execution_count": null,
      "metadata": {
        "colab": {
          "base_uri": "https://localhost:8080/"
        },
        "id": "o3zXDX9wg2sL",
        "outputId": "730f4feb-e7a6-459b-c63c-4ada0e3bfd5c"
      },
      "outputs": [
        {
          "output_type": "stream",
          "name": "stdout",
          "text": [
            "ABC120PME0000LZ3MB1Y3C45\n",
            "APLMYC103134\n"
          ]
        }
      ],
      "source": [
        "#string\n",
        "def fun(s):\n",
        "    res=[]\n",
        "    res.append(s[0])\n",
        "    for i in range(1,len(s)-1):\n",
        "        if (s[i].isalpha() and s[i+1].isdigit()) or (s[i].isdigit() and s[i+1].isalpha()):\n",
        "              res.append(s[i+1])\n",
        "    res=''.join(res)\n",
        "    new=''\n",
        "    for i in res:\n",
        "        if i .isalpha():\n",
        "            new+=i\n",
        "    for i in res:\n",
        "        if i .isdigit():\n",
        "            new+=i\n",
        "\n",
        "\n",
        "    return new\n",
        "\n",
        "s=input()\n",
        "print(fun(s))\n",
        "\n",
        "\n",
        "\n",
        "\n"
      ]
    },
    {
      "cell_type": "code",
      "source": [
        "#palin array\n",
        "def ispalindrome(num):\n",
        "    num=str(num)\n",
        "    return num[:] == num[::-1]\n",
        "def palindromearr(arr):\n",
        "    for i in arr:\n",
        "        if not ispalindrome(i):\n",
        "            return False\n",
        "    return True\n",
        "\n",
        "arr=[11,22,33,556]\n",
        "print(palindromearr(arr))\n",
        "\n"
      ],
      "metadata": {
        "colab": {
          "base_uri": "https://localhost:8080/"
        },
        "id": "_NPoa6S1jcVa",
        "outputId": "d23a6c25-712a-460d-b8f2-14bfa01e906e"
      },
      "execution_count": null,
      "outputs": [
        {
          "output_type": "stream",
          "name": "stdout",
          "text": [
            "False\n"
          ]
        }
      ]
    },
    {
      "cell_type": "code",
      "source": [
        "''' 3 character codes on the ticket. string S of length N (multiple of 3) and has to divide in partitition of 3, which means the partition should be something like from lenght 1-3, 4-6 and so on. ABC is same as BAC, as they contain same letters. how many unique codes exist in the given string S. find and return an integer value representing the unique number of 3 characters code present in the string if it is split in each group of 3\n",
        "inp1=12\n",
        "inp2=ABCZABCADDAC\n",
        "op: 3\n",
        "exp: 'ABC', 'ZAB', 'CAD', 'DAC' . 'CAD'and 'DAC' are same so unique strings are 3'''\n",
        "\n",
        "def unique(n,s):\n",
        "  uc=set()\n",
        "  for i in range(0,n,3):\n",
        "    code=''.join(sorted(s[i:i+3]))\n",
        "    uc.add(code)\n",
        "  return len(uc)\n",
        "n=int(input())\n",
        "s=input()\n",
        "print(unique(n,s))\n",
        "\n",
        "\n"
      ],
      "metadata": {
        "id": "qGutV_Fax4of",
        "colab": {
          "base_uri": "https://localhost:8080/"
        },
        "outputId": "48a03264-742b-461b-9ae3-553777037371"
      },
      "execution_count": null,
      "outputs": [
        {
          "output_type": "stream",
          "name": "stdout",
          "text": [
            "12\n",
            "ABCZABCADDAC\n",
            "3\n"
          ]
        }
      ]
    },
    {
      "cell_type": "code",
      "source": [
        "def isprime(num):\n",
        "    if num <= 1:\n",
        "        return False\n",
        "    if num == 2:\n",
        "        return True\n",
        "    if num % 2 == 0:\n",
        "        return False\n",
        "    for i in range(3, int(num**0.5) + 1, 2):\n",
        "        if num % i == 0:\n",
        "            return False\n",
        "    return True\n",
        "\n",
        "def fun(n, arr):\n",
        "    sum1 = 0\n",
        "    for i in range(1, n, 2):\n",
        "        if isprime(arr[i]):\n",
        "            sum1 += arr[i]\n",
        "    return sum1\n",
        "\n",
        "n = int(input())\n",
        "a = list(map(int, input().split()))\n",
        "print(fun(n, a))\n"
      ],
      "metadata": {
        "colab": {
          "base_uri": "https://localhost:8080/"
        },
        "id": "xYtCT3Ri7nkB",
        "outputId": "c1be1750-aa4e-442a-e41b-821e1cf125b3"
      },
      "execution_count": null,
      "outputs": [
        {
          "output_type": "stream",
          "name": "stdout",
          "text": [
            "5\n",
            "4 5 6 2 10\n",
            "7\n"
          ]
        }
      ]
    },
    {
      "cell_type": "markdown",
      "source": [
        "#Day2"
      ],
      "metadata": {
        "id": "mDpJm2ZwvOnN"
      }
    },
    {
      "cell_type": "code",
      "source": [
        "'''7. in an arrayland , N knights line up in a row A, each with a unique power level.\n",
        "A knight is considered special if the number of stronger knights to their left is strictly greater than the number of stronger knights to their right.\n",
        " your task is to find and return an integer value representing the count of special knights in the line-up.\n",
        "inp1: 5\n",
        "inp2: [4,3,5,2,1]\n",
        "o/p: 2'''\n",
        "\n",
        "\n",
        "n=int(input())\n",
        "a=list(map(int,input().split()))\n",
        "countspecial=0\n",
        "\n",
        "for i in range(len(a)):\n",
        "  left=0\n",
        "  right=0\n",
        "  for j in range(i):\n",
        "    if a[j]>a[i]:\n",
        "      left+=1\n",
        "\n",
        "  for j in range(i+1,len(a)):\n",
        "    if a[j]>a[i]:\n",
        "      right+=1\n",
        "\n",
        "\n",
        "  if left>right:\n",
        "    countspecial+=1\n",
        "\n",
        "print(countspecial)"
      ],
      "metadata": {
        "colab": {
          "base_uri": "https://localhost:8080/"
        },
        "id": "bLHjM7icvROW",
        "outputId": "920da8d6-4406-4df0-9d89-b788b20d3cf9"
      },
      "execution_count": null,
      "outputs": [
        {
          "output_type": "stream",
          "name": "stdout",
          "text": [
            "5\n",
            "4 3 5 2 1\n",
            "2\n"
          ]
        }
      ]
    },
    {
      "cell_type": "code",
      "source": [
        "\n",
        "\n",
        "n=int(input())\n",
        "a=list(map(int,input().split()))\n",
        "countspecial=0\n",
        "for i in range(len(a)):\n",
        "  leftarr=a[:i]\n",
        "  rightarr=a[i+1:]\n",
        "  left=0\n",
        "  right=0\n",
        "  for j in leftarr:\n",
        "    if j>a[i]:\n",
        "      left+=1\n",
        "  for j in rightarr:\n",
        "    if j>a[i]:\n",
        "      right+=1\n",
        "  if left>right:\n",
        "    countspecial+=1\n",
        "print(countspecial)\n"
      ],
      "metadata": {
        "colab": {
          "base_uri": "https://localhost:8080/"
        },
        "id": "8QLDad2P4goA",
        "outputId": "1f9b44df-1113-4a6f-9c97-2aa78ed10c99"
      },
      "execution_count": null,
      "outputs": [
        {
          "output_type": "stream",
          "name": "stdout",
          "text": [
            "5\n",
            "4 3 5 2 1\n",
            "2\n"
          ]
        }
      ]
    },
    {
      "cell_type": "markdown",
      "source": [
        "#input:aabbbccdeeea\n",
        "#output:#d#a"
      ],
      "metadata": {
        "id": "BJx3t6KH6zVG"
      }
    },
    {
      "cell_type": "code",
      "source": [
        "def find(s):\n",
        "\n",
        "  res,i='',0\n",
        "  while i<len(s):\n",
        "    j=i\n",
        "    while j < len(s) and s[j]==s[i]:\n",
        "      j+=1\n",
        "    res += '#' if j-i > 1 else s[i]\n",
        "    i=j\n",
        "  final=''\n",
        "  i=0\n",
        "  while i <len(res):\n",
        "    final+='#' if res[i] == '#' else res[i]\n",
        "    if res[i] == '#':\n",
        "      while i<len(res) and res[i] == '#':\n",
        "        i+=1\n",
        "    else:\n",
        "      i+=1\n",
        "  return final\n",
        "\n",
        "s = input()\n",
        "\n",
        "print(find(s))"
      ],
      "metadata": {
        "colab": {
          "base_uri": "https://localhost:8080/"
        },
        "id": "QbHPFZOW8M_1",
        "outputId": "2690c640-2d4b-4da0-f71b-2cc516d874b9"
      },
      "execution_count": null,
      "outputs": [
        {
          "output_type": "stream",
          "name": "stdout",
          "text": [
            "aabbbccdeeea\n",
            "#d#a\n"
          ]
        }
      ]
    },
    {
      "cell_type": "code",
      "source": [
        "s=input()\n",
        "for i in range(len(s)):\n",
        "  for j in range(i,len(s)):\n",
        "    print(s[i:j+1])\n",
        "\n",
        "print('-'*20)\n",
        "for i in range(len(s)-3+1):\n",
        "  print(s[i:i+3])\n",
        "\n",
        "print('-'*20)\n",
        "\n",
        "for i in range(len(s)-3+1):\n",
        "  for j in range(i,len(s)):\n",
        "    print(s[i:j+1])"
      ],
      "metadata": {
        "colab": {
          "base_uri": "https://localhost:8080/"
        },
        "id": "tkiR8OYGBVFZ",
        "outputId": "7fbb4cf6-5746-48ad-918c-0d0306039afc"
      },
      "execution_count": null,
      "outputs": [
        {
          "output_type": "stream",
          "name": "stdout",
          "text": [
            "aabcd\n",
            "a\n",
            "aa\n",
            "aab\n",
            "aabc\n",
            "aabcd\n",
            "a\n",
            "ab\n",
            "abc\n",
            "abcd\n",
            "b\n",
            "bc\n",
            "bcd\n",
            "c\n",
            "cd\n",
            "d\n",
            "--------------------\n",
            "aab\n",
            "abc\n",
            "bcd\n"
          ]
        }
      ]
    },
    {
      "cell_type": "code",
      "source": [
        "s=\"helloworld\"\n",
        "k=3\n",
        "for i in range(len(s)-k+1):\n",
        "  for j in range(i,i+k):\n",
        "    print(s[j],end=' ')\n",
        "  print()"
      ],
      "metadata": {
        "colab": {
          "base_uri": "https://localhost:8080/"
        },
        "id": "OJax6k9OFElM",
        "outputId": "6c06d12a-ba77-4136-e8fa-110e34126604"
      },
      "execution_count": null,
      "outputs": [
        {
          "output_type": "stream",
          "name": "stdout",
          "text": [
            "h e l \n",
            "e l l \n",
            "l l o \n",
            "l o w \n",
            "o w o \n",
            "w o r \n",
            "o r l \n",
            "r l d \n"
          ]
        }
      ]
    },
    {
      "cell_type": "code",
      "source": [
        "'''Input: s = \"PAYPALISHIRING\", numRows = 3\n",
        "Output: \"PAHNAPLSIIGYIR\"\n",
        "'''\n",
        "def convertZigzag(s, numRows):\n",
        "    if numRows == 1 or numRows >= len(s):\n",
        "        return s\n",
        "\n",
        "    rows=['']*numRows\n",
        "    print(rows)\n",
        "    index = 0\n",
        "    step = 1  # 1 for down, -1 for up\n",
        "\n",
        "    for char in s:\n",
        "        rows[index] += char\n",
        "        print(rows)\n",
        "\n",
        "        if index == 0:\n",
        "            step = 1\n",
        "        elif index == numRows - 1:\n",
        "            step = -1\n",
        "\n",
        "        index += step\n",
        "\n",
        "    return ''.join(rows)\n",
        "\n",
        "\n",
        "s = \"PAYPALISHIRING\"\n",
        "numRows = 3\n",
        "print(convertZigzag(s, numRows))  # Output: \"PAHNAPLSIIGYIR\""
      ],
      "metadata": {
        "colab": {
          "base_uri": "https://localhost:8080/"
        },
        "id": "Q6V5bUVPHrSO",
        "outputId": "5015b1be-2b8f-4f75-8d1b-60599ad84c38"
      },
      "execution_count": null,
      "outputs": [
        {
          "output_type": "stream",
          "name": "stdout",
          "text": [
            "['', '', '']\n",
            "['P', '', '']\n",
            "['P', 'A', '']\n",
            "['P', 'A', 'Y']\n",
            "['P', 'AP', 'Y']\n",
            "['PA', 'AP', 'Y']\n",
            "['PA', 'APL', 'Y']\n",
            "['PA', 'APL', 'YI']\n",
            "['PA', 'APLS', 'YI']\n",
            "['PAH', 'APLS', 'YI']\n",
            "['PAH', 'APLSI', 'YI']\n",
            "['PAH', 'APLSI', 'YIR']\n",
            "['PAH', 'APLSII', 'YIR']\n",
            "['PAHN', 'APLSII', 'YIR']\n",
            "['PAHN', 'APLSIIG', 'YIR']\n",
            "PAHNAPLSIIGYIR\n"
          ]
        }
      ]
    },
    {
      "cell_type": "code",
      "source": [
        "def one_edit(s,t):\n",
        "    if s==t:\n",
        "        return False\n",
        "    i=0\n",
        "    while i<min(len(s),len(t)) and s[i]==t[i]:\n",
        "        i+=1\n",
        "    return s[i:]==t[i+1:] or s[i+1]==t[i:] or s[i+1:]==t[i+1:]\n",
        "s=input()\n",
        "t=input()\n",
        "print(one_edit(s,t))"
      ],
      "metadata": {
        "colab": {
          "base_uri": "https://localhost:8080/"
        },
        "id": "x6oYcPwoV_cN",
        "outputId": "4c4d9aac-3e78-46ad-dd11-1d7a555986a7"
      },
      "execution_count": null,
      "outputs": [
        {
          "output_type": "stream",
          "name": "stdout",
          "text": [
            "abc\n",
            "adt\n",
            "False\n"
          ]
        }
      ]
    },
    {
      "cell_type": "code",
      "source": [
        "s = \"flower\"\n",
        "t = \"flow\"\n",
        "i = 0\n",
        "\n",
        "while i < min(len(s), len(t)) and s[i] == t[i]:\n",
        "    i += 1\n",
        "\n",
        "print(\"Length of longest common prefix:\", i)\n"
      ],
      "metadata": {
        "colab": {
          "base_uri": "https://localhost:8080/"
        },
        "id": "-KzZ_6j3zx0e",
        "outputId": "7d5d3dfb-0873-4c84-a47b-067bbd897779"
      },
      "execution_count": null,
      "outputs": [
        {
          "output_type": "stream",
          "name": "stdout",
          "text": [
            "Length of longest common prefix: 4\n"
          ]
        }
      ]
    },
    {
      "cell_type": "code",
      "source": [
        "def fun(height):\n",
        "\n",
        "  max_area=0\n",
        "  for i in range(0,len(height)):\n",
        "      for j in range(i+1,len(height)):\n",
        "                  width=j-i\n",
        "                  min_height=min(height[i],height[j])\n",
        "                  area=min_height*width\n",
        "                  max_area=max(max_area,area)\n",
        "  return max_area\n",
        "height=list(map(int,input().split()))\n",
        "print(fun(height))"
      ],
      "metadata": {
        "colab": {
          "base_uri": "https://localhost:8080/"
        },
        "id": "XbsYY52MCDu3",
        "outputId": "65f60ec7-5a67-474e-9384-a2d60fe87a96"
      },
      "execution_count": null,
      "outputs": [
        {
          "output_type": "stream",
          "name": "stdout",
          "text": [
            "1 8 6 2 5 4 8 3 7\n",
            "49\n"
          ]
        }
      ]
    },
    {
      "cell_type": "markdown",
      "source": [
        "#Day3"
      ],
      "metadata": {
        "id": "dJ00N2Yo8j8B"
      }
    },
    {
      "cell_type": "code",
      "source": [
        "def fun(moves):\n",
        "  sm=0\n",
        "  mx=0\n",
        "  for i in moves:\n",
        "    sm+=i\n",
        "    mx=max(mx,sm)\n",
        "  return mx\n",
        "\n",
        "moves=list(map(int,input().split()))\n",
        "print(fun(moves))"
      ],
      "metadata": {
        "colab": {
          "base_uri": "https://localhost:8080/"
        },
        "id": "UAoes5Ck8hzE",
        "outputId": "803723d2-08ba-4a3a-ed65-ad8c526f0fd1"
      },
      "execution_count": null,
      "outputs": [
        {
          "output_type": "stream",
          "name": "stdout",
          "text": [
            "-5 2 -7 3 -2 6\n",
            "0\n"
          ]
        }
      ]
    },
    {
      "cell_type": "markdown",
      "source": [
        "array of numbers.perforn unique traansormation exactly half of number of elemets of array.transformation has 2 steps:1)entire array shoulb be rotated by one step to the right.2)vanishing number:after rotation,specific number from array disappears .the disapear number is determined by formula n-k+1 from start of array where k is step count,this process continues size/2 times,reducing array in size each time.finally when all trnafrmation are done the first remaining number in the array is the answer. input: 6                     1 2 3 4 5 6 output:3"
      ],
      "metadata": {
        "id": "aVcO_E2XQh4M"
      }
    },
    {
      "cell_type": "code",
      "source": [
        "def  rotation(arr):\n",
        "    k=1\n",
        "\n",
        "    iterations=len(arr)//2\n",
        "    for i in range(iterations):\n",
        "      arr=arr[-1:]+arr[:-1]\n",
        "      vanish=len(arr)-k\n",
        "      arr.pop(vanish)\n",
        "      k+=1\n",
        "    return arr[0]\n",
        "\n",
        "n=int(input())\n",
        "arr=list(map(int,input().split()))\n",
        "print(rotation(arr))\n",
        "\n",
        "\n"
      ],
      "metadata": {
        "colab": {
          "base_uri": "https://localhost:8080/"
        },
        "id": "TwT8ksIMAfRw",
        "outputId": "65b19e60-6279-4fde-fa9d-42d23f134748"
      },
      "execution_count": null,
      "outputs": [
        {
          "output_type": "stream",
          "name": "stdout",
          "text": [
            "6\n",
            "1 2 3 4 5 6\n",
            "3\n"
          ]
        }
      ]
    },
    {
      "cell_type": "code",
      "source": [
        "n=342\n",
        "#max number\n",
        "s=str(n)#'342'\n",
        "l=list(s)#[3,4,2]\n",
        "l.sort(reverse=True)\n",
        "print(l)\n",
        "print(''.join(l))"
      ],
      "metadata": {
        "colab": {
          "base_uri": "https://localhost:8080/"
        },
        "id": "n6504NjsMYi_",
        "outputId": "0c8ab216-908b-4d1a-d229-e51b25ae1323"
      },
      "execution_count": null,
      "outputs": [
        {
          "output_type": "stream",
          "name": "stdout",
          "text": [
            "['4', '3', '2']\n",
            "432\n"
          ]
        }
      ]
    },
    {
      "cell_type": "code",
      "source": [
        "'''you are given an inclusice range[lower,upper] and a sorted unique integer array nums.where all elements are within in\n",
        "th inclusive range.\n",
        "A number x is considered missing,if x is in the range [lower,upper] and x is not in nums\n",
        "Return the shortest sorted list of ranges that exactly covers all the missing numbers.That is,no elements of\n",
        "nums is included in any of the ranges, and each missing number is covered by one of the ranges.'''\n",
        "'''example 1:\n",
        "input: nums=[0,1,3,50,75],lower=0,upper=99\n",
        "output[2,2],[4,49],[51,74],[76,99]'''\n",
        "def missingnum(num,lwr,uppr):\n",
        "        rslt=[]\n",
        "        for nmbr in num:\n",
        "            if lwr<nmbr:\n",
        "                rslt.append([lwr,nmbr-1])\n",
        "            lwr=nmbr+1\n",
        "        if lwr<=uppr:\n",
        "            rslt.append([lwr,uppr])\n",
        "        return rslt\n",
        "\n",
        "\n",
        "num=list(map(int,input().split()))\n",
        "lwr=int(input())\n",
        "uppr=int(input())\n",
        "print(missingnum(num,lwr,uppr))"
      ],
      "metadata": {
        "id": "vMumfBOYUl7D"
      },
      "execution_count": null,
      "outputs": []
    },
    {
      "cell_type": "code",
      "source": [
        "def reorder(nums):\n",
        "    for i in range(1, len(nums)):\n",
        "        if i % 2 == 1:\n",
        "            if nums[i] < nums[i - 1]:\n",
        "                nums[i], nums[i - 1] = nums[i - 1], nums[i]\n",
        "        else:\n",
        "            if nums[i] > nums[i - 1]:\n",
        "                nums[i], nums[i - 1] = nums[i - 1], nums[i]\n",
        "    return nums\n",
        "\n",
        "\n",
        "nums = list(map(int, input().split()))\n",
        "result = reorder(nums)\n",
        "print(result)"
      ],
      "metadata": {
        "colab": {
          "base_uri": "https://localhost:8080/"
        },
        "id": "OPXzRhMPZVIL",
        "outputId": "24a7426f-22a8-453c-956a-cfc49982234c"
      },
      "execution_count": null,
      "outputs": [
        {
          "output_type": "stream",
          "name": "stdout",
          "text": [
            "1 2 3 4\n",
            "[1, 3, 2, 4]\n"
          ]
        }
      ]
    },
    {
      "cell_type": "code",
      "source": [
        "def reorder(nums):\n",
        "    for i in range(1, len(nums)):\n",
        "       if nums[i] > nums[i - 1]:\n",
        "                nums[i], nums[i - 1] = nums[i - 1], nums[i]\n",
        "    return nums\n",
        "\n",
        "# Input\n",
        "nums = list(map(int, input(\"Enter numbers: \").split()))\n",
        "\n",
        "result = reorder(nums)\n",
        "print(\"Reordered array:\", result)"
      ],
      "metadata": {
        "colab": {
          "base_uri": "https://localhost:8080/"
        },
        "id": "8QsWwnoxd7-m",
        "outputId": "f9c8ef41-345b-4c5a-ad70-e1c5b76fbde6"
      },
      "execution_count": null,
      "outputs": [
        {
          "output_type": "stream",
          "name": "stdout",
          "text": [
            "Enter numbers: 1 2 3 4\n",
            "Reordered array: [2, 3, 4, 1]\n"
          ]
        }
      ]
    },
    {
      "cell_type": "markdown",
      "source": [
        "once upon a time in a land of numbers, there was a grand parade where all the integers had to line up\n",
        "in a special order. The king of numbers wanted the largest number to lead the parade,followed by the smallest\n",
        "number ,then the second-largest number, then the second-smallest number, and so on"
      ],
      "metadata": {
        "id": "h5Ps3kK7nEAJ"
      }
    },
    {
      "cell_type": "code",
      "source": [
        "n=list(map(int, input().split()))\n",
        "res=[]\n",
        "l=0\n",
        "r=len(n)-1\n",
        "desc=sorted(n,reverse=True)\n",
        "for i in range(len(n)):\n",
        "  if i %2==0:\n",
        "    res.append(desc[l])\n",
        "    l+=1\n",
        "  else:\n",
        "    res.append(desc[r])\n",
        "    r-=1\n",
        "\n",
        "print(res)\n"
      ],
      "metadata": {
        "colab": {
          "base_uri": "https://localhost:8080/"
        },
        "id": "UD7tQiLGhAaX",
        "outputId": "38574e38-7e52-4e65-d89c-55628498d90c"
      },
      "execution_count": null,
      "outputs": [
        {
          "output_type": "stream",
          "name": "stdout",
          "text": [
            "1 2 3 4 5 6\n",
            "[6, 1, 5, 2, 4, 3]\n"
          ]
        }
      ]
    },
    {
      "cell_type": "code",
      "source": [
        "'''once upon a time in a lanf of numbers, a clever mathematician was presented with a challenge.\n",
        "she was given a basket containing a set of single-digit numbers-numbers from 0to 9.Her task was to form a two new numbers\n",
        "using all the digits in the basket.But there was  a catch-the sum of these two numbers had to be small as possible\n",
        ".can you help her?\n",
        "Input Format:\n",
        "->The first line contains an integer n, the number of elements in the array.\n",
        "->The second line contains n space-separated non-negative integers(0<=a[i]<9).\n",
        "output Format:\n",
        "->print the minimum possible sum of the two numbers formed\n",
        "constraints:\n",
        "->The array consists of only single-digit integers(0-9).\n",
        "->The numbers formed should not have leading zeros. unless the number is 0 itself.\n",
        "->The sum should be returned as an integer'''\n",
        "\n",
        "\n",
        "arr=list(map(int, input().split()))\n",
        "num1=''\n",
        "num2=''\n",
        "sum=0\n",
        "arr.sort()\n",
        "for i in range(len(arr)):\n",
        "  if i%2==0:\n",
        "    num1+=str(arr[i])\n",
        "  else:\n",
        "    num2+=str(arr[i])\n",
        "\n",
        "sum1=int(num1)+int(num2)\n",
        "print(sum1)\n"
      ],
      "metadata": {
        "colab": {
          "base_uri": "https://localhost:8080/"
        },
        "id": "nxo3JS8N2muS",
        "outputId": "b91a1d74-4b42-44a5-8985-751ae3e0f4d0"
      },
      "execution_count": null,
      "outputs": [
        {
          "output_type": "stream",
          "name": "stdout",
          "text": [
            "4 6 2 7 9 8\n",
            "747\n"
          ]
        }
      ]
    },
    {
      "cell_type": "code",
      "source": [
        "def minimum_sum(n, arr):1 = 0\n",
        "    num2 = 0\n",
        "    for i in range(n):\n",
        "        if i % 2 == 0:\n",
        "            nu\n",
        "    arr.sort()\n",
        "    numm1 = num1 * 10 + arr[i]\n",
        "        else:\n",
        "            num2 = num2 * 10 + arr[i]\n",
        "    return num1 + num2\n",
        "\n",
        "n = int(input())\n",
        "arr = list(map(int, input().split()))\n",
        "print(minimum_sum(n, arr))"
      ],
      "metadata": {
        "colab": {
          "base_uri": "https://localhost:8080/"
        },
        "id": "i3U44IEI9-FN",
        "outputId": "17476fb7-95db-42ee-ce55-08a135ad53ea"
      },
      "execution_count": null,
      "outputs": [
        {
          "output_type": "stream",
          "name": "stdout",
          "text": [
            "6\n",
            "4 6 2 7 9 8\n",
            "747\n"
          ]
        }
      ]
    },
    {
      "cell_type": "code",
      "source": [
        "'''imagine you have K candies that need to be distributed among N children, who are sequentially numbered from\n",
        "1 to N. The distribution begins with a specific child, child A,and proceeds in a sequence:child A, child A+1,\n",
        "child A+2, and so on.After the last child(child N) receives a candy, the distribution continues with child 1\n",
        "and so on.\n",
        "your task is to determine which child will receive the last candy after all K candies have been distributed.\n",
        "\n",
        "Input format:\n",
        "The first line contains three space separated integers:\n",
        "->N: the number of children\n",
        "->K: the number of candies\n",
        "->A: the starting child for the candy distribution\n",
        "Output format:\n",
        "print the number of the child who will receive the last candy.'''\n",
        "N, K, A = map(int, input().split())\n",
        "\n",
        "last_child = (A + K - 1) % N\n",
        "if last_child == 0:\n",
        "    last_child = N\n",
        "\n",
        "print(last_child)\n",
        "\n"
      ],
      "metadata": {
        "colab": {
          "base_uri": "https://localhost:8080/"
        },
        "id": "pGRf997D-WE2",
        "outputId": "0119ebdc-a4ae-4bb5-f083-84a40242417a"
      },
      "execution_count": null,
      "outputs": [
        {
          "name": "stdout",
          "output_type": "stream",
          "text": [
            "1 2 3\n"
          ]
        }
      ]
    },
    {
      "cell_type": "code",
      "source": [
        "n = int(input())\n",
        "total=0\n",
        "\n",
        "s=str(n)\n",
        "for i in range(len(s)):\n",
        "  total+=int(s[i])**(i+1)\n",
        "print(total)"
      ],
      "metadata": {
        "colab": {
          "base_uri": "https://localhost:8080/"
        },
        "id": "Hh0lkPnEGySt",
        "outputId": "f76d43a6-294a-4056-efa1-dd5764af1245"
      },
      "execution_count": null,
      "outputs": [
        {
          "output_type": "stream",
          "name": "stdout",
          "text": [
            "123\n",
            "32\n"
          ]
        }
      ]
    },
    {
      "cell_type": "markdown",
      "source": [
        "Datastructures\n"
      ],
      "metadata": {
        "id": "NUbBEXbhsWVE"
      }
    },
    {
      "cell_type": "code",
      "source": [
        "class Test:\n",
        "  id=1122\n",
        "print(Test.id)"
      ],
      "metadata": {
        "colab": {
          "base_uri": "https://localhost:8080/"
        },
        "id": "1mDc9sflsXvw",
        "outputId": "2b6182f4-37a5-454a-bd40-cf547ad3be56"
      },
      "execution_count": null,
      "outputs": [
        {
          "output_type": "stream",
          "name": "stdout",
          "text": [
            "1122\n"
          ]
        }
      ]
    },
    {
      "cell_type": "code",
      "source": [
        "class Emp:\n",
        "  pass\n",
        "e1=Emp()\n",
        "print(e1)"
      ],
      "metadata": {
        "colab": {
          "base_uri": "https://localhost:8080/"
        },
        "id": "89wD3kPlvuLK",
        "outputId": "593fe588-4929-41a4-f9f5-daae41c18b2e"
      },
      "execution_count": null,
      "outputs": [
        {
          "output_type": "stream",
          "name": "stdout",
          "text": [
            "<__main__.Emp object at 0x7cac5e6c3f90>\n"
          ]
        }
      ]
    },
    {
      "cell_type": "code",
      "source": [
        "class Emp:\n",
        "  def st_dtls(self,n, i):\n",
        "    self.name=n\n",
        "    self.id=i\n",
        "  def display(self):\n",
        "    print(self.name,self.id)\n",
        "#print(id(Emp))\n",
        "e1=Emp() #10k address memory is allocated in heap\n",
        "#print(id(e1))\n",
        "e1.st_dtls(\"seetha\",1512)\n",
        "e1.display()\n",
        "e2=Emp()\n",
        "e2.st_dtls(\"A\",2203)\n",
        "e2.display()\n",
        "#print(id(e2))"
      ],
      "metadata": {
        "colab": {
          "base_uri": "https://localhost:8080/"
        },
        "id": "dLyb2TVi23rR",
        "outputId": "9cfbe713-1247-4e6e-9bd0-6795a1b76fb1"
      },
      "execution_count": null,
      "outputs": [
        {
          "output_type": "stream",
          "name": "stdout",
          "text": [
            "seetha 1512\n",
            "A 2203\n"
          ]
        }
      ]
    },
    {
      "cell_type": "code",
      "source": [
        "class Emp:\n",
        "  def st_dtls(self,n, i):\n",
        "    self.name=n\n",
        "    self.id=i\n",
        "  def display(self):\n",
        "    print(self.name,self.id)\n",
        "#print(id(Emp))\n",
        "e1=Emp() #10k address memory is allocated in heap\n",
        "#print(id(e1))\n",
        "e1.st_dtls(\"seetha\",1512)\n",
        "e1.display()\n",
        "e2=Emp()\n",
        "e2.st_dtls(\"A\",2203)\n",
        "e2.display()\n",
        "#print(id(e2))"
      ],
      "metadata": {
        "id": "J8QxV3mk4JBh"
      },
      "execution_count": null,
      "outputs": []
    },
    {
      "cell_type": "markdown",
      "source": [
        "The _ init _() Method (The Class Constructor)\n",
        "\n",
        "It's automatically called when an object of the class is created.\n",
        "The method is useful to initialize the varibles of the class object.\n",
        "The _ init _() is prefixed as well as suffixed by double underscores."
      ],
      "metadata": {
        "id": "a5w9SrkN7Qt0"
      }
    },
    {
      "cell_type": "markdown",
      "source": [
        "# linked lists"
      ],
      "metadata": {
        "id": "8TwctH2XA501"
      }
    },
    {
      "cell_type": "code",
      "source": [
        "class Node:\n",
        "  def __init__(self,val):\n",
        "    self.data=val\n",
        "    self.next=None\n",
        "\n",
        "\n",
        "\n",
        "n1=Node(55)\n",
        "n2=Node(106)\n",
        "n3=Node(107)\n",
        "n1.next=n2\n",
        "n2.next=n3\n",
        "curr=n1\n",
        "while curr:\n",
        "  print(curr.data,end=' ')\n",
        "  curr=curr.next\n",
        "print(id(n1))\n",
        "print(n1)"
      ],
      "metadata": {
        "colab": {
          "base_uri": "https://localhost:8080/"
        },
        "id": "AzDJ8Lio7SjD",
        "outputId": "0679ef4e-0731-4e91-b15b-aa843debc19c"
      },
      "execution_count": null,
      "outputs": [
        {
          "output_type": "stream",
          "name": "stdout",
          "text": [
            "55 106 107 137079640163024\n",
            "<__main__.Node object at 0x7cac574202d0>\n"
          ]
        }
      ]
    },
    {
      "cell_type": "markdown",
      "source": [
        "# step1:create a newnode with the given data\n",
        "step2:check if the list is empty(if head is None)\n",
        "step3:if empty,make the new node as head\n",
        "step4:exit\n",
        "step5:else\n",
        "step6:set current = head\n",
        "step7:repeat steps 7 while current.next!=None\n",
        "step8:update current to current.next\n",
        "[end of loop]\n",
        "step9:current.next to the new node\n",
        "step10:exit\n",
        "# New section"
      ],
      "metadata": {
        "id": "fLv_OEqUVbg-"
      }
    },
    {
      "cell_type": "code",
      "source": [
        "class Node:\n",
        "  def __init__(self,val):\n",
        "    self.data=val\n",
        "    self.next=None\n",
        "\n",
        "class LinkedList:\n",
        "  def __init__(self):\n",
        "    self.head=None\n",
        "\n",
        "  def insertatlast(self,val):\n",
        "\n",
        "    newnode=Node(val)\n",
        "\n",
        "    if self.head is None:\n",
        "      self.head=newnode\n",
        "      return\n",
        "    else:\n",
        "      curr=self.head\n",
        "      while curr.next is not None:\n",
        "        curr=curr.next\n",
        "      curr.next=newnode\n",
        "\n",
        "\n",
        "  def display(self):\n",
        "    if self.head is None:\n",
        "      print(\"list is empty\")\n",
        "      return\n",
        "\n",
        "    curr=self.head\n",
        "    while curr:\n",
        "      print(curr.data,end=' ')\n",
        "      curr=curr.next\n",
        "\n",
        "sll=LinkedList()\n",
        "sll.insertatlast(10)\n",
        "sll.display()\n",
        "sll.insertatlast(20)\n",
        "sll.display()\n",
        "\n",
        "\n"
      ],
      "metadata": {
        "colab": {
          "base_uri": "https://localhost:8080/"
        },
        "id": "BNv_nghSC7OD",
        "outputId": "44023d1e-55ae-4224-870c-e5757f8c12bc"
      },
      "execution_count": null,
      "outputs": [
        {
          "output_type": "stream",
          "name": "stdout",
          "text": [
            "10 10 20 "
          ]
        }
      ]
    },
    {
      "cell_type": "markdown",
      "source": [
        "insert last"
      ],
      "metadata": {
        "id": "EJbGxTB1WeXC"
      }
    },
    {
      "cell_type": "code",
      "source": [
        "class Node:\n",
        "    def __init__(self,val):\n",
        "        self.data=val\n",
        "        self.nxt=None\n",
        "\n",
        "class singlell:\n",
        "    def __init__(self):\n",
        "        self.head=None\n",
        "    def insertbeg(self, element):\n",
        "        newnode=Node(element)\n",
        "        if self.head is None:\n",
        "          self.head=newnode\n",
        "          return\n",
        "        else:\n",
        "          newnode.nxt = self.head\n",
        "          self.head = newnode\n",
        "\n",
        "    def insertlast(self,element):\n",
        "        newnode=Node(element)\n",
        "\n",
        "        if self.head==None:   #list is empty\n",
        "            self.head=newnode\n",
        "\n",
        "        else:\n",
        "            crnt=self.head\n",
        "            while crnt.nxt!=None:\n",
        "                crnt=crnt.nxt\n",
        "            crnt.nxt=newnode\n",
        "\n",
        "\n",
        "    def insert_before_node(self,val,key):\n",
        "        if self.head==None:\n",
        "            print(\"ll is empty,insertion not possible\")\n",
        "            return\n",
        "        else:\n",
        "            newnode=Node(val)\n",
        "            curr=self.head\n",
        "            if curr.data==key:\n",
        "                newnode.nxt=self.head\n",
        "                self.head=newnode\n",
        "                return\n",
        "            else:\n",
        "\n",
        "                while curr.nxt and curr.nxt.data!=key:\n",
        "                    curr=curr.nxt\n",
        "                if curr.nxt:\n",
        "                    newnode.nxt=curr.nxt\n",
        "                    curr.nxt=newnode\n",
        "                else:\n",
        "                    print(\"Node vth data \",key,\"not found\")\n",
        "\n",
        "    def insert_after_node(self, value, key):\n",
        "      if self.head is None:\n",
        "          print(\"List is empty\")\n",
        "      else:\n",
        "          newnode = Node(value)\n",
        "          current = self.head\n",
        "          while current:\n",
        "              if current.data == key:\n",
        "                  newnode.nxt = current.nxt\n",
        "                  current.nxt = newnode\n",
        "                  return\n",
        "              current = current.nxt\n",
        "          else:\n",
        "              print(\"Node with data\", key, \"not found\")\n",
        "\n",
        "\n",
        "    def delete_before_node(self,key):\n",
        "\n",
        "      if self.head is None:\n",
        "        print(\"list is empty\")\n",
        "        return\n",
        "\n",
        "       # If key is at head, there's no node before it\n",
        "      else:\n",
        "        if self.head.nxt is None:\n",
        "          print(\"not possible, no node exists before head\")\n",
        "          return\n",
        "        elif self.head.nxt.data==key:\n",
        "          self.head=self.head.nxt\n",
        "        else:\n",
        "          curr=self.head.nxt\n",
        "          prev=self.head\n",
        "          while curr.nxt and curr.nxt.data != key:\n",
        "            prev=curr\n",
        "            curr=curr.nxt\n",
        "          if curr.nxt:\n",
        "            print(\"deleted node \",curr.data)\n",
        "            prev.nxt=curr.nxt\n",
        "          else:\n",
        "            print(\"not found in list\")\n",
        "\n",
        "    def reverse(self):\n",
        "      if self.head is None:\n",
        "          print(\"empty list no reversal\")\n",
        "          return\n",
        "      else:\n",
        "          prev=None\n",
        "          curr=self.head\n",
        "\n",
        "          while curr != None:\n",
        "            next=curr.nxt\n",
        "            curr.nxt=prev\n",
        "            prev=curr\n",
        "            curr=next\n",
        "\n",
        "          self.head=prev\n",
        "\n",
        "      while curr != None:\n",
        "        next=curr.nxt\n",
        "        curr.nxt=prev\n",
        "        prev=curr\n",
        "        curr=next\n",
        "\n",
        "      self.head=prev\n",
        "\n",
        "\n",
        "\n",
        "    def insert_at_pos(self,val,key):\n",
        "        if key<0:\n",
        "            print(\"Invalid Position\")\n",
        "            return\n",
        "        newnode=Node(val)\n",
        "        if key==0:\n",
        "            newnode.nxt=self.head\n",
        "            self.head=newnode\n",
        "            return\n",
        "        curr=self.head\n",
        "        idx=0\n",
        "        while curr and idx<key-1:\n",
        "            curr=curr.nxt\n",
        "            idx+=1\n",
        "        if curr is None:\n",
        "            print(\"pos out of bounds\")\n",
        "        else:\n",
        "            newnode.nxt=curr.nxt\n",
        "            curr.nxt=newnode\n",
        "\n",
        "    def deletebeg(self):\n",
        "      if self.head is None:\n",
        "        print(\"empty\")\n",
        "        return\n",
        "      else:\n",
        "        curr=self.head\n",
        "        self.head=curr.nxt\n",
        "        print(curr.data,\"deleted\")\n",
        "        del curr\n",
        "    def deletelast(self):\n",
        "      if self.head is None:\n",
        "        print(\"empty\")\n",
        "        return\n",
        "      elif self.head.nxt is None:\n",
        "        print(\"deleted  \",self.head.data)\n",
        "        self.head=None\n",
        "      else:\n",
        "        crnt=self.head.nxt\n",
        "        prev=self.head\n",
        "\n",
        "\n",
        "        while crnt.nxt!=None:\n",
        "                prev=crnt\n",
        "                crnt=crnt.nxt\n",
        "        print(\"deleted node \",crnt.data)\n",
        "        prev.nxt=None\n",
        "\n",
        "    def search(self,ele):\n",
        "      if self.head is None:\n",
        "        print(\"empty\")\n",
        "        return\n",
        "      else:\n",
        "        curr=self.head\n",
        "        while curr is not None:\n",
        "          if curr.data == ele:\n",
        "            print(\"element found\",curr.data)\n",
        "            return\n",
        "          curr=curr.nxt\n",
        "        print(\"not found\")\n",
        "\n",
        "\n",
        "    def display(self):\n",
        "        if self.head is None:\n",
        "            print(\"List Empty\")\n",
        "            return\n",
        "        else:\n",
        "            curr=self.head\n",
        "            while curr:\n",
        "                print(curr.data)\n",
        "                curr=curr.nxt\n",
        "\n",
        "sll=singlell()\n",
        "while True:\n",
        "    print(\"1.insert@last   2.Display  3.exit 4.insertbeg  5.delete at beg 6.deletelast 7.searchnode  8.insert beforenode 9.insert after node  10.insert at position 11.delete before node 12.reverse\")\n",
        "    ch=int(input())\n",
        "    if ch==1:\n",
        "        ele=int(input(\"Enter Element: \"))\n",
        "        sll.insertlast(ele)\n",
        "    elif ch==2:\n",
        "        sll.display()\n",
        "    elif ch==3:\n",
        "        break\n",
        "    elif ch==4:\n",
        "        ele=int(input(\"Enter Element: \"))\n",
        "        sll.insertbeg(ele)\n",
        "    elif ch==5:\n",
        "      sll.deletebeg()\n",
        "    elif ch==6:\n",
        "      sll.deletelast()\n",
        "    elif ch==7:\n",
        "      ele=int(input(\"Enter Element: \"))\n",
        "      sll.search(ele)\n",
        "    elif ch==8:\n",
        "      val=int(input(\"Enter Element\"))\n",
        "      key=int(input(\"Enter before node\"))\n",
        "      sll.insert_before_node(val,key)\n",
        "    elif ch==9:\n",
        "      val=int(input(\"Enter Element\"))\n",
        "      key=int(input(\"Enter after node\"))\n",
        "      sll.insert_after_node(val,key)\n",
        "    elif ch==10:\n",
        "      val=int(input(\"Enter Element\"))\n",
        "      key=int(input(\"Enterc the position\"))\n",
        "      sll.insert_at_pos(val,key)\n",
        "    elif ch==11:\n",
        "      print(\"delete at before node\")\n",
        "      key=int(input(\"enter delete before node : \"))\n",
        "      sll.delete_before_node(key)\n",
        "    elif ch==12:\n",
        "      print(\"reverse \\n\")\n",
        "      sll.reverse()\n",
        "      sll.display()\n",
        "\n"
      ],
      "metadata": {
        "id": "Hh3utw2BUUb0",
        "colab": {
          "base_uri": "https://localhost:8080/"
        },
        "outputId": "190057c8-950c-458d-bd93-713dc12fc30f"
      },
      "execution_count": null,
      "outputs": [
        {
          "name": "stdout",
          "output_type": "stream",
          "text": [
            "1.insert@last   2.Display  3.exit 4.insertbeg  5.delete at beg 6.deletelast 7.searchnode  8.insert beforenode 9.insert after node  10.insert at position 11.delete before node\n",
            "1\n",
            "Enter Element: 10\n",
            "1.insert@last   2.Display  3.exit 4.insertbeg  5.delete at beg 6.deletelast 7.searchnode  8.insert beforenode 9.insert after node  10.insert at position 11.delete before node\n",
            "1\n",
            "Enter Element: 20\n",
            "1.insert@last   2.Display  3.exit 4.insertbeg  5.delete at beg 6.deletelast 7.searchnode  8.insert beforenode 9.insert after node  10.insert at position 11.delete before node\n",
            "1\n",
            "Enter Element: 30\n",
            "1.insert@last   2.Display  3.exit 4.insertbeg  5.delete at beg 6.deletelast 7.searchnode  8.insert beforenode 9.insert after node  10.insert at position 11.delete before node\n",
            "12\n",
            "reverse \n",
            "\n",
            "10\n",
            "20\n",
            "30\n",
            "1.insert@last   2.Display  3.exit 4.insertbeg  5.delete at beg 6.deletelast 7.searchnode  8.insert beforenode 9.insert after node  10.insert at position 11.delete before node\n",
            "1\n",
            "Enter Element: 10\n",
            "1.insert@last   2.Display  3.exit 4.insertbeg  5.delete at beg 6.deletelast 7.searchnode  8.insert beforenode 9.insert after node  10.insert at position 11.delete before node\n",
            "1\n",
            "Enter Element: 20\n",
            "1.insert@last   2.Display  3.exit 4.insertbeg  5.delete at beg 6.deletelast 7.searchnode  8.insert beforenode 9.insert after node  10.insert at position 11.delete before node\n",
            "1\n",
            "Enter Element: 30\n",
            "1.insert@last   2.Display  3.exit 4.insertbeg  5.delete at beg 6.deletelast 7.searchnode  8.insert beforenode 9.insert after node  10.insert at position 11.delete before node\n",
            "12\n",
            "reverse \n",
            "\n",
            "10\n",
            "20\n",
            "30\n",
            "10\n",
            "20\n",
            "30\n",
            "1.insert@last   2.Display  3.exit 4.insertbeg  5.delete at beg 6.deletelast 7.searchnode  8.insert beforenode 9.insert after node  10.insert at position 11.delete before node\n",
            "1\n",
            "Enter Element: 10\n",
            "1.insert@last   2.Display  3.exit 4.insertbeg  5.delete at beg 6.deletelast 7.searchnode  8.insert beforenode 9.insert after node  10.insert at position 11.delete before node\n",
            "1\n",
            "Enter Element: 20\n",
            "1.insert@last   2.Display  3.exit 4.insertbeg  5.delete at beg 6.deletelast 7.searchnode  8.insert beforenode 9.insert after node  10.insert at position 11.delete before node\n",
            "1\n",
            "Enter Element: 30\n",
            "1.insert@last   2.Display  3.exit 4.insertbeg  5.delete at beg 6.deletelast 7.searchnode  8.insert beforenode 9.insert after node  10.insert at position 11.delete before node\n",
            "1\n",
            "Enter Element: 40\n",
            "1.insert@last   2.Display  3.exit 4.insertbeg  5.delete at beg 6.deletelast 7.searchnode  8.insert beforenode 9.insert after node  10.insert at position 11.delete before node\n",
            "12\n",
            "reverse \n",
            "\n",
            "10\n",
            "20\n",
            "30\n",
            "10\n",
            "20\n",
            "30\n",
            "10\n",
            "20\n",
            "30\n",
            "40\n",
            "1.insert@last   2.Display  3.exit 4.insertbeg  5.delete at beg 6.deletelast 7.searchnode  8.insert beforenode 9.insert after node  10.insert at position 11.delete before node\n",
            "2\n",
            "10\n",
            "20\n",
            "30\n",
            "10\n",
            "20\n",
            "30\n",
            "10\n",
            "20\n",
            "30\n",
            "40\n",
            "1.insert@last   2.Display  3.exit 4.insertbeg  5.delete at beg 6.deletelast 7.searchnode  8.insert beforenode 9.insert after node  10.insert at position 11.delete before node\n",
            "12\n",
            "reverse \n",
            "\n",
            "10\n",
            "20\n",
            "30\n",
            "10\n",
            "20\n",
            "30\n",
            "10\n",
            "20\n",
            "30\n",
            "40\n",
            "1.insert@last   2.Display  3.exit 4.insertbeg  5.delete at beg 6.deletelast 7.searchnode  8.insert beforenode 9.insert after node  10.insert at position 11.delete before node\n",
            "5\n",
            "10 deleted\n",
            "1.insert@last   2.Display  3.exit 4.insertbeg  5.delete at beg 6.deletelast 7.searchnode  8.insert beforenode 9.insert after node  10.insert at position 11.delete before node\n",
            "5\n",
            "20 deleted\n",
            "1.insert@last   2.Display  3.exit 4.insertbeg  5.delete at beg 6.deletelast 7.searchnode  8.insert beforenode 9.insert after node  10.insert at position 11.delete before node\n",
            "5\n",
            "30 deleted\n",
            "1.insert@last   2.Display  3.exit 4.insertbeg  5.delete at beg 6.deletelast 7.searchnode  8.insert beforenode 9.insert after node  10.insert at position 11.delete before node\n",
            "5\n",
            "10 deleted\n",
            "1.insert@last   2.Display  3.exit 4.insertbeg  5.delete at beg 6.deletelast 7.searchnode  8.insert beforenode 9.insert after node  10.insert at position 11.delete before node\n",
            "2\n",
            "20\n",
            "30\n",
            "10\n",
            "20\n",
            "30\n",
            "40\n",
            "1.insert@last   2.Display  3.exit 4.insertbeg  5.delete at beg 6.deletelast 7.searchnode  8.insert beforenode 9.insert after node  10.insert at position 11.delete before node\n",
            "5\n",
            "20 deleted\n",
            "1.insert@last   2.Display  3.exit 4.insertbeg  5.delete at beg 6.deletelast 7.searchnode  8.insert beforenode 9.insert after node  10.insert at position 11.delete before node\n",
            "5\n",
            "30 deleted\n",
            "1.insert@last   2.Display  3.exit 4.insertbeg  5.delete at beg 6.deletelast 7.searchnode  8.insert beforenode 9.insert after node  10.insert at position 11.delete before node\n",
            "2\n",
            "10\n",
            "20\n",
            "30\n",
            "40\n",
            "1.insert@last   2.Display  3.exit 4.insertbeg  5.delete at beg 6.deletelast 7.searchnode  8.insert beforenode 9.insert after node  10.insert at position 11.delete before node\n",
            "12\n",
            "reverse \n",
            "\n",
            "10\n",
            "20\n",
            "30\n",
            "40\n",
            "1.insert@last   2.Display  3.exit 4.insertbeg  5.delete at beg 6.deletelast 7.searchnode  8.insert beforenode 9.insert after node  10.insert at position 11.delete before node\n",
            "2\n",
            "10\n",
            "20\n",
            "30\n",
            "40\n",
            "1.insert@last   2.Display  3.exit 4.insertbeg  5.delete at beg 6.deletelast 7.searchnode  8.insert beforenode 9.insert after node  10.insert at position 11.delete before node\n",
            "12\n",
            "reverse \n",
            "\n",
            "10\n",
            "20\n",
            "30\n",
            "40\n",
            "1.insert@last   2.Display  3.exit 4.insertbeg  5.delete at beg 6.deletelast 7.searchnode  8.insert beforenode 9.insert after node  10.insert at position 11.delete before node\n",
            "2\n",
            "10\n",
            "20\n",
            "30\n",
            "40\n",
            "1.insert@last   2.Display  3.exit 4.insertbeg  5.delete at beg 6.deletelast 7.searchnode  8.insert beforenode 9.insert after node  10.insert at position 11.delete before node\n",
            "12\n",
            "reverse \n",
            "\n",
            "10\n",
            "20\n",
            "30\n",
            "40\n",
            "1.insert@last   2.Display  3.exit 4.insertbeg  5.delete at beg 6.deletelast 7.searchnode  8.insert beforenode 9.insert after node  10.insert at position 11.delete before node\n",
            "2\n",
            "10\n",
            "20\n",
            "30\n",
            "40\n",
            "1.insert@last   2.Display  3.exit 4.insertbeg  5.delete at beg 6.deletelast 7.searchnode  8.insert beforenode 9.insert after node  10.insert at position 11.delete before node\n",
            "12\n",
            "reverse \n",
            "\n",
            "10\n",
            "20\n",
            "30\n",
            "40\n",
            "1.insert@last   2.Display  3.exit 4.insertbeg  5.delete at beg 6.deletelast 7.searchnode  8.insert beforenode 9.insert after node  10.insert at position 11.delete before node\n",
            "12\n",
            "reverse \n",
            "\n",
            "10\n",
            "20\n",
            "30\n",
            "40\n",
            "1.insert@last   2.Display  3.exit 4.insertbeg  5.delete at beg 6.deletelast 7.searchnode  8.insert beforenode 9.insert after node  10.insert at position 11.delete before node\n",
            "2\n",
            "10\n",
            "20\n",
            "30\n",
            "40\n",
            "1.insert@last   2.Display  3.exit 4.insertbeg  5.delete at beg 6.deletelast 7.searchnode  8.insert beforenode 9.insert after node  10.insert at position 11.delete before node\n",
            "12\n",
            "reverse \n",
            "\n",
            "10\n",
            "20\n",
            "30\n",
            "40\n",
            "1.insert@last   2.Display  3.exit 4.insertbeg  5.delete at beg 6.deletelast 7.searchnode  8.insert beforenode 9.insert after node  10.insert at position 11.delete before node\n",
            "2\n",
            "10\n",
            "20\n",
            "30\n",
            "40\n",
            "1.insert@last   2.Display  3.exit 4.insertbeg  5.delete at beg 6.deletelast 7.searchnode  8.insert beforenode 9.insert after node  10.insert at position 11.delete before node\n",
            "12\n",
            "reverse \n",
            "\n",
            "10\n",
            "20\n",
            "30\n",
            "40\n",
            "1.insert@last   2.Display  3.exit 4.insertbeg  5.delete at beg 6.deletelast 7.searchnode  8.insert beforenode 9.insert after node  10.insert at position 11.delete before node\n",
            "2\n",
            "10\n",
            "20\n",
            "30\n",
            "40\n",
            "1.insert@last   2.Display  3.exit 4.insertbeg  5.delete at beg 6.deletelast 7.searchnode  8.insert beforenode 9.insert after node  10.insert at position 11.delete before node\n",
            "12\n",
            "reverse \n",
            "\n",
            "10\n",
            "20\n",
            "30\n",
            "40\n",
            "1.insert@last   2.Display  3.exit 4.insertbeg  5.delete at beg 6.deletelast 7.searchnode  8.insert beforenode 9.insert after node  10.insert at position 11.delete before node\n",
            "2\n",
            "10\n",
            "20\n",
            "30\n",
            "40\n",
            "1.insert@last   2.Display  3.exit 4.insertbeg  5.delete at beg 6.deletelast 7.searchnode  8.insert beforenode 9.insert after node  10.insert at position 11.delete before node\n",
            "12\n",
            "reverse \n",
            "\n",
            "10\n",
            "20\n",
            "30\n",
            "40\n",
            "1.insert@last   2.Display  3.exit 4.insertbeg  5.delete at beg 6.deletelast 7.searchnode  8.insert beforenode 9.insert after node  10.insert at position 11.delete before node\n",
            "2\n",
            "10\n",
            "20\n",
            "30\n",
            "40\n",
            "1.insert@last   2.Display  3.exit 4.insertbeg  5.delete at beg 6.deletelast 7.searchnode  8.insert beforenode 9.insert after node  10.insert at position 11.delete before node\n",
            "2\n",
            "10\n",
            "20\n",
            "30\n",
            "40\n",
            "1.insert@last   2.Display  3.exit 4.insertbeg  5.delete at beg 6.deletelast 7.searchnode  8.insert beforenode 9.insert after node  10.insert at position 11.delete before node\n",
            "2\n",
            "10\n",
            "20\n",
            "30\n",
            "40\n",
            "1.insert@last   2.Display  3.exit 4.insertbeg  5.delete at beg 6.deletelast 7.searchnode  8.insert beforenode 9.insert after node  10.insert at position 11.delete before node\n",
            "12\n",
            "reverse \n",
            "\n",
            "10\n",
            "20\n",
            "30\n",
            "40\n",
            "1.insert@last   2.Display  3.exit 4.insertbeg  5.delete at beg 6.deletelast 7.searchnode  8.insert beforenode 9.insert after node  10.insert at position 11.delete before node\n",
            "1\n",
            "Enter Element: 50\n",
            "1.insert@last   2.Display  3.exit 4.insertbeg  5.delete at beg 6.deletelast 7.searchnode  8.insert beforenode 9.insert after node  10.insert at position 11.delete before node\n",
            "2\n",
            "10\n",
            "20\n",
            "30\n",
            "40\n",
            "50\n",
            "1.insert@last   2.Display  3.exit 4.insertbeg  5.delete at beg 6.deletelast 7.searchnode  8.insert beforenode 9.insert after node  10.insert at position 11.delete before node\n",
            "12\n",
            "reverse \n",
            "\n",
            "10\n",
            "20\n",
            "30\n",
            "40\n",
            "50\n",
            "1.insert@last   2.Display  3.exit 4.insertbeg  5.delete at beg 6.deletelast 7.searchnode  8.insert beforenode 9.insert after node  10.insert at position 11.delete before node\n",
            "2\n",
            "10\n",
            "20\n",
            "30\n",
            "40\n",
            "50\n",
            "1.insert@last   2.Display  3.exit 4.insertbeg  5.delete at beg 6.deletelast 7.searchnode  8.insert beforenode 9.insert after node  10.insert at position 11.delete before node\n",
            "12\n",
            "reverse \n",
            "\n",
            "10\n",
            "20\n",
            "30\n",
            "40\n",
            "50\n",
            "1.insert@last   2.Display  3.exit 4.insertbeg  5.delete at beg 6.deletelast 7.searchnode  8.insert beforenode 9.insert after node  10.insert at position 11.delete before node\n",
            "12\n",
            "reverse \n",
            "\n",
            "10\n",
            "20\n",
            "30\n",
            "40\n",
            "50\n",
            "1.insert@last   2.Display  3.exit 4.insertbeg  5.delete at beg 6.deletelast 7.searchnode  8.insert beforenode 9.insert after node  10.insert at position 11.delete before node\n",
            "2\n",
            "10\n",
            "20\n",
            "30\n",
            "40\n",
            "50\n",
            "1.insert@last   2.Display  3.exit 4.insertbeg  5.delete at beg 6.deletelast 7.searchnode  8.insert beforenode 9.insert after node  10.insert at position 11.delete before node\n",
            "12\n",
            "reverse \n",
            "\n",
            "10\n",
            "20\n",
            "30\n",
            "40\n",
            "50\n",
            "1.insert@last   2.Display  3.exit 4.insertbeg  5.delete at beg 6.deletelast 7.searchnode  8.insert beforenode 9.insert after node  10.insert at position 11.delete before node\n",
            "3\n"
          ]
        }
      ]
    },
    {
      "cell_type": "code",
      "source": [
        "#circular linkedlist\n",
        "class Node:\n",
        "    def __init__(self,val):\n",
        "        self.data=val\n",
        "        self.nxt=None\n",
        "\n",
        "n1=Node(1122)\n",
        "n2=Node(2233)\n",
        "n3=Node(3344)\n",
        "n4=Node(4455)\n",
        "n1.nxt=n2\n",
        "n2.nxt=n3\n",
        "n3.nxt=n4\n",
        "n4.nxt=n1\n",
        "\n",
        "curr=n1\n",
        "while curr.nxt!=n1:\n",
        "    print(curr.data)\n",
        "    curr=curr.nxt\n",
        "\n",
        "print(curr.data)"
      ],
      "metadata": {
        "id": "uZfv1XWk86IK",
        "colab": {
          "base_uri": "https://localhost:8080/"
        },
        "outputId": "81b55d22-2aa4-466d-dd3b-cb55163c9eb6"
      },
      "execution_count": null,
      "outputs": [
        {
          "output_type": "stream",
          "name": "stdout",
          "text": [
            "1122\n",
            "2233\n",
            "3344\n",
            "4455\n"
          ]
        }
      ]
    },
    {
      "cell_type": "code",
      "source": [
        "class Node:\n",
        "    def __init__(self, val):\n",
        "        self.data = val\n",
        "        self.next = None\n",
        "\n",
        "class CircularLinkedList:\n",
        "    def __init__(self):\n",
        "        self.head = None\n",
        "\n",
        "    def insertlast(self, ele):\n",
        "        newnode = Node(ele)\n",
        "        if self.head is None:\n",
        "            self.head = newnode\n",
        "            newnode.next = self.head\n",
        "        else:\n",
        "            curr = self.head\n",
        "            while curr.next != self.head:\n",
        "                curr = curr.next\n",
        "            curr.next = newnode\n",
        "            newnode.next = self.head\n",
        "\n",
        "    def insertfirst(self, ele):\n",
        "        newnode = Node(ele)\n",
        "        if self.head is None:\n",
        "            self.head = newnode\n",
        "            newnode.next = self.head\n",
        "        else:\n",
        "            curr = self.head\n",
        "            while curr.next != self.head:\n",
        "                curr = curr.next\n",
        "            curr.next = newnode\n",
        "            newnode.next = self.head\n",
        "            self.head = newnode\n",
        "\n",
        "    def display(self):\n",
        "        if self.head is None:\n",
        "            print(\"List is empty\")\n",
        "            return\n",
        "        curr = self.head\n",
        "        while True:\n",
        "            print(curr.data, end=\" -> \")\n",
        "            curr = curr.next\n",
        "            if curr == self.head:\n",
        "                break\n",
        "        print(\"(back to head)\")\n",
        "\n",
        "# Menu-driven code\n",
        "cll = CircularLinkedList()\n",
        "while True:\n",
        "    print(\"1. Insert at last  2. Insert at first  3. Display  4. Exit\")\n",
        "    ch = int(input(\"Enter choice: \"))\n",
        "    if ch == 1:\n",
        "        ele = int(input(\"Enter Element: \"))\n",
        "        cll.insertlast(ele)\n",
        "    elif ch == 2:\n",
        "        ele = int(input(\"Enter Element: \"))\n",
        "        cll.insertfirst(ele)\n",
        "    elif ch == 3:\n",
        "        cll.display()\n",
        "    elif ch == 4:\n",
        "        break\n",
        "    else:\n",
        "        print(\"Invalid choice\")\n",
        "    #delete at last\n",
        "def delete_at_last(self):\n",
        "    if self.head is None:\n",
        "        print(\"List is empty\")\n",
        "    elif self.head.next==self.head:\n",
        "        print(self.head.data,\"deleted\")\n",
        "        self.head=None\n",
        "    else:\n",
        "        prev=None\n",
        "        current=self.head\n",
        "        while current.next!=self.head:\n",
        "            prev=current\n",
        "            current=current.next\n",
        "        prev.next=self.head\n",
        "        print(current.data,\"deleted\")\n",
        "        del current\n"
      ],
      "metadata": {
        "colab": {
          "base_uri": "https://localhost:8080/"
        },
        "id": "8q8v3olKEu73",
        "outputId": "da4417a2-f3df-48f2-99da-d36bc7760339"
      },
      "execution_count": null,
      "outputs": [
        {
          "name": "stdout",
          "output_type": "stream",
          "text": [
            "1. Insert at last  2. Insert at first  3. Display  4. Exit\n",
            "1. Insert at last  2. Insert at first  3. Display  4. Exit\n",
            "1. Insert at last  2. Insert at first  3. Display  4. Exit\n",
            "1. Insert at last  2. Insert at first  3. Display  4. Exit\n",
            "10 -> 20 -> 30 -> (back to head)\n",
            "1. Insert at last  2. Insert at first  3. Display  4. Exit\n",
            "Enter choice: 4\n"
          ]
        }
      ]
    },
    {
      "cell_type": "markdown",
      "source": [
        "#**dsa day3**"
      ],
      "metadata": {
        "id": "TIdTCiQzO4EC"
      }
    },
    {
      "cell_type": "code",
      "source": [
        "class Node:\n",
        "  def __init__(self,data):\n",
        "    self.data=data\n",
        "    self.prev=None\n",
        "    self.next=None\n",
        "class DoublyLinkedList:\n",
        "  def __init__(self):\n",
        "    self.head=None\n",
        "\n",
        "  def display(self):\n",
        "    if self.head==None:\n",
        "      print(\"empty list\")\n",
        "      return\n",
        "    temp=self.head\n",
        "    while temp:\n",
        "      print(temp.data,end='<->')\n",
        "      temp=temp.next\n",
        "    print()\n",
        "\n",
        "  def insertlast(self,ele):\n",
        "    newnode=Node(ele)\n",
        "    if self.head is None:\n",
        "      self.head=newnode\n",
        "    else:\n",
        "      curr=self.head\n",
        "      while curr.next != None:\n",
        "        curr=curr.next\n",
        "      curr.next=newnode\n",
        "      newnode.prev=curr\n",
        "\n",
        "  def insertfirst(self,ele):\n",
        "    newnode=Node(ele)\n",
        "    if self.head is None:\n",
        "      self.head=newnode\n",
        "      return\n",
        "    else:\n",
        "      newnode.next=self.head\n",
        "      self.head.prev=newnode\n",
        "      self.head=newnode\n",
        "\n",
        "  def insertbeforenode(self,ele,key):\n",
        "    newnode=Node(ele)\n",
        "    if self.head.data==key:\n",
        "      newnode.next=self.head\n",
        "      self.head.prev=newnode\n",
        "      self.head=newnode\n",
        "    else:\n",
        "      curr=self.head\n",
        "      while curr.next and curr.next.data!=key:\n",
        "        curr=curr.next\n",
        "      if curr.next:\n",
        "        newnode.next=curr.next\n",
        "        curr.next.prev=newnode\n",
        "\n",
        "        curr.next=newnode\n",
        "        newnode.prev=curr\n",
        "      else:\n",
        "        print(\"cant find\")\n",
        "  def insert_after_val(self,val,ele):\n",
        "        newnode=Node(ele)\n",
        "        if self.head==None:\n",
        "            self.head=newnode\n",
        "        else:\n",
        "            temp=self.head\n",
        "            while temp and temp.data!=val:\n",
        "                temp=temp.next\n",
        "            if temp==None:\n",
        "                print(\"node is not found\")\n",
        "            else:\n",
        "                newnode.prev=temp\n",
        "                newnode.next=temp.next\n",
        "                if temp.next!=None:\n",
        "                    temp.next.prev=newnode\n",
        "                temp.next=newnode\n",
        "  def delete_beg(self):\n",
        "    if self.head==None:\n",
        "      print(\"dll is empty\")\n",
        "      return\n",
        "    if self.head.next==None:\n",
        "      self.head=None\n",
        "      return\n",
        "    temp=self.head\n",
        "    self.head=self.head.next\n",
        "    self.head.prev=None\n",
        "    del temp\n",
        "  def del_at_last(self):\n",
        "        if self.head==None:\n",
        "            print(\"dll is empty\")\n",
        "        elif self.head.next==None:\n",
        "            self.head=None\n",
        "        else:\n",
        "            temp=self.head\n",
        "            while temp.next!=None:\n",
        "                 temp=temp.next\n",
        "            temp.prev.next=None\n",
        "            del temp\n",
        "\n",
        "\n",
        "\n",
        "  def displayreverse(self):\n",
        "     if self.head is None:\n",
        "      print(\"list empty\")\n",
        "      return\n",
        "     else:\n",
        "      curr=self.head\n",
        "      while curr.next!=None:\n",
        "        curr=curr.next\n",
        "      while curr!=None:\n",
        "        print(curr.data,end = ' ')\n",
        "        curr=curr.prev\n",
        "  def odd_even(self):\n",
        "        if self.head==None or self.head.nxt==None:\n",
        "            return self.head\n",
        "        #initialisation\n",
        "        odd=self.head\n",
        "        even=self.head.nxt\n",
        "        even_head=even\n",
        "        #seperate odd and even lists\n",
        "        while even!=None and even.nxt!=None:\n",
        "            odd.nxt=even.nxt\n",
        "            odd=odd.nxt\n",
        "            even.nxt=odd.nxt\n",
        "            even=even.nxt\n",
        "        #connect odd list to even list\n",
        "        odd.nxt=even_head\n",
        "        return self.head\n",
        "\n",
        "\n",
        "\n",
        "\n",
        "d=DoublyLinkedList()\n",
        "d.insertlast(10)\n",
        "d.insertlast(20)\n",
        "d.insertlast(30)\n",
        "#d.displayreverse()\n",
        "#d.insertbeforenode(15,20)\n",
        "##d.display()\n",
        "#d.insert_after_val(20,100)\n",
        "d.del_at_last()\n",
        "#d.delete_beg()\n",
        "d.display()\n",
        "\n",
        "\n",
        "\n"
      ],
      "metadata": {
        "colab": {
          "base_uri": "https://localhost:8080/"
        },
        "id": "RqfnpL_Bhy5S",
        "outputId": "45f0be0d-d877-442c-805c-fbea7ea44a79"
      },
      "execution_count": null,
      "outputs": [
        {
          "output_type": "stream",
          "name": "stdout",
          "text": [
            "10<->20<->\n"
          ]
        }
      ]
    },
    {
      "cell_type": "code",
      "source": [
        "import math\n",
        "def isprime(n):\n",
        "  if n<=1:\n",
        "    return False\n",
        "  if n==2 or n==3:\n",
        "    return True\n",
        "  if n%2==0 or n%3==0:\n",
        "    return False\n",
        "  for i in range(5,int(sqrt(n))+1,6):\n",
        "    if n%i==0 or n%(i+2)==0:\n",
        "      return False\n",
        "  return True\n",
        "def isstrong(n):\n",
        "  if isprime(n)==False or n==2:\n",
        "    return False\n",
        "  prev=n-1\n",
        "  next=n+1\n",
        "  while not isprime(prev):\n",
        "    prev-=1\n",
        "  while not isprime(next):\n",
        "    next+=1\n",
        "  mean=(prev+next)//2\n",
        "  if mean<=n:\n",
        "    print(prev,n,next)\n",
        "    return True\n",
        "  return False\n",
        "def fun(l,r):\n",
        "  count=0\n",
        "  for i in range(l,r+1):\n",
        "    if isstrong(i):\n",
        "      count+=1\n",
        "  return count\n",
        "\n",
        "l,r=map(int,input().split())\n",
        "print(fun(l,r))"
      ],
      "metadata": {
        "colab": {
          "base_uri": "https://localhost:8080/"
        },
        "id": "3OQ56igHLgT9",
        "outputId": "3293dcd0-126c-424a-fddb-c81b1f06c70d"
      },
      "execution_count": null,
      "outputs": [
        {
          "output_type": "stream",
          "name": "stdout",
          "text": [
            "10 20\n",
            "7 11 13\n",
            "13 17 19\n",
            "2\n"
          ]
        }
      ]
    },
    {
      "cell_type": "code",
      "source": [
        "class Node:\n",
        "    def __init__(self,val):\n",
        "        self.data=val\n",
        "        self.nxt=None\n",
        "\n",
        "def add(l1,l2):\n",
        "  dummy=Node(0)\n",
        "  curr=dummy\n",
        "  carry=0\n",
        "\n",
        "  while l1 or l2 or carry:\n",
        "\n",
        "    if l1:\n",
        "      val1=l1.data\n",
        "    else:\n",
        "      val1=0\n",
        "    if l2:\n",
        "      val2=l2.data\n",
        "    else:\n",
        "      val2=0\n",
        "\n",
        "    total=val1+val2+carry\n",
        "    carry=total//10\n",
        "    curr.nxt=Node(total % 10)\n",
        "\n",
        "    curr=curr.nxt\n",
        "    if l1:\n",
        "      l1=l1.nxt\n",
        "    if l2:\n",
        "      l2=l2.nxt\n",
        "  temp=dummy.nxt\n",
        "  while temp!=None:\n",
        "    print(temp.data,end= '->')\n",
        "    temp=temp.nxt\n",
        "\n",
        "\n",
        "\n",
        "\n",
        "l1=Node(2)\n",
        "l1.nxt=Node(4)\n",
        "l1.nxt.nxt=Node(3)\n",
        "l2=Node(5)\n",
        "l2.nxt=Node(6)\n",
        "\n",
        "add(l1,l2)\n"
      ],
      "metadata": {
        "colab": {
          "base_uri": "https://localhost:8080/"
        },
        "id": "0lYJcdQba36F",
        "outputId": "490e4cef-3b06-4561-91d4-4356fbd958c6"
      },
      "execution_count": null,
      "outputs": [
        {
          "output_type": "stream",
          "name": "stdout",
          "text": [
            "7->0->4->"
          ]
        }
      ]
    },
    {
      "cell_type": "code",
      "source": [
        "class Node:\n",
        "    def __init__(self,val):\n",
        "        self.data=val\n",
        "        self.nxt=None\n",
        "\n",
        "def merge(l1,l2):\n",
        "  dummy=Node(0)\n",
        "  curr=dummy\n",
        "\n",
        "def to_list(l):\n",
        "  list1=[]\n",
        "\n",
        "\n",
        "\n",
        "\n",
        "l1=Node(1)\n",
        "l1.nxt=Node(2)\n",
        "l1.nxt.nxt=Node(3)\n",
        "l2=Node(4)\n",
        "l2.nxt=Node(5)\n",
        "l2.nxt.nxt=Node(6)\n",
        "fun(l1,l2)\n"
      ],
      "metadata": {
        "id": "JVHFCFIxVW8o"
      },
      "execution_count": null,
      "outputs": []
    },
    {
      "cell_type": "code",
      "source": [
        "class Node:\n",
        "    def __init__(self, val=0):\n",
        "        self.val = val\n",
        "        self.next = None\n",
        "\n",
        "def find_length(head):\n",
        "  l=0\n",
        "  while head != None:\n",
        "    l+=1\n",
        "    head=head.next\n",
        "  return l\n",
        "\n",
        "def intersection(l1,l2):\n",
        "  lengtha=find_length(l1)\n",
        "  lengthb=find_length(l2)\n",
        "  diff=lengtha-lengthb\n",
        "\n",
        "  while lengtha>lengthb:\n",
        "    l1=l1.next\n",
        "    lengtha-=1\n",
        "\n",
        "\n",
        "  while lengthb>lengtha:\n",
        "    l2=l2.next\n",
        "    lengthb-=1\n",
        "\n",
        "  while l1 and l2:\n",
        "    if l1 == l2:\n",
        "      return l1.val\n",
        "    l1=l1.next\n",
        "    l2=l2.next\n",
        "  return None\n",
        "\n",
        "common=Node(8)\n",
        "common.next=Node(4)\n",
        "common.next.next=Node(5)\n",
        "\n",
        "l1=Node(4)\n",
        "l1.next=Node(1)\n",
        "l1.next.next=common\n",
        "\n",
        "l2=Node(5)\n",
        "l2.next=Node(6)\n",
        "l2.next.next=Node(1)\n",
        "l2.next.next.next=common\n",
        "\n",
        "\n",
        "print(intersection(l1,l2))\n"
      ],
      "metadata": {
        "id": "tACouScnamlm",
        "colab": {
          "base_uri": "https://localhost:8080/"
        },
        "outputId": "0b631731-8547-4eec-9ea7-4f8fbd9fe008"
      },
      "execution_count": null,
      "outputs": [
        {
          "output_type": "stream",
          "name": "stdout",
          "text": [
            "8\n"
          ]
        }
      ]
    },
    {
      "cell_type": "code",
      "source": [
        "#postfix\n",
        "stack=[]\n",
        "s=input()\n",
        "\n",
        "for i in s:\n",
        "    if i in \"1234567890\":\n",
        "        stack.append(int(i))\n",
        "    else:\n",
        "        n2=stack.pop()\n",
        "        n1=stack.pop()\n",
        "        if i=='*':\n",
        "            stack.append(n1*n2)\n",
        "        elif i=='-':\n",
        "            stack.append(n1-n2)\n",
        "        elif i=='+':\n",
        "            stack.append(n1+n2)\n",
        "        elif i=='/':\n",
        "            stack.append(n1/n2)\n",
        "\n",
        "print(stack.pop())"
      ],
      "metadata": {
        "colab": {
          "base_uri": "https://localhost:8080/"
        },
        "id": "j5in3FVfqlF5",
        "outputId": "de324348-df0c-422c-c549-1de2e1bd9cf9"
      },
      "execution_count": null,
      "outputs": [
        {
          "output_type": "stream",
          "name": "stdout",
          "text": [
            "123+\n",
            "5\n"
          ]
        }
      ]
    },
    {
      "cell_type": "code",
      "source": [
        "#rotate list"
      ],
      "metadata": {
        "id": "u3f2fM_Ugkjy"
      },
      "execution_count": null,
      "outputs": []
    },
    {
      "cell_type": "code",
      "source": [
        "#merge 2 sorted lists\n",
        "class Node:\n",
        "    def __init__(self, val=0):\n",
        "        self.data = val\n",
        "        self.next = None\n",
        "\n",
        "def merge(l1,l2):\n",
        "  res=[]\n",
        "  head1=l1\n",
        "  head2=l2\n",
        "  while head1 and head2:\n",
        "    if head1.data<=head2.data:\n",
        "      res.append(head1.data)\n",
        "      head1=head1.next\n",
        "    else:\n",
        "      res.append(head2.data)\n",
        "      head2=head2.next\n",
        "  while head1:\n",
        "    res.append(head1.data)\n",
        "    head1=head1.next\n",
        "  while head2:\n",
        "    res.append(head2.data)\n",
        "    head2=head2.next\n",
        "  return res\n",
        "\n",
        "\n",
        "l1=Node(1)\n",
        "l1.next=Node(2)\n",
        "l1.next.next=Node(4)\n",
        "l2=Node(1)\n",
        "l2.next=Node(3)\n",
        "l2.next.next=Node(4)\n",
        "print(merge(l1,l2))\n"
      ],
      "metadata": {
        "colab": {
          "base_uri": "https://localhost:8080/"
        },
        "id": "dQrAvOJDxd32",
        "outputId": "cc82334b-7502-4f1b-ea43-f0f3c006c877"
      },
      "execution_count": null,
      "outputs": [
        {
          "output_type": "stream",
          "name": "stdout",
          "text": [
            "[1, 1, 2, 3, 4, 4]\n"
          ]
        }
      ]
    },
    {
      "cell_type": "markdown",
      "source": [
        ":"
      ],
      "metadata": {
        "id": "wAWEFI5rZK_S"
      }
    },
    {
      "cell_type": "code",
      "source": [
        "#balancing symbols\n",
        "def balance(s):\n",
        "  stack=[]\n",
        "  for i in s:\n",
        "    if i in '(':\n",
        "      stack.append(i)\n",
        "    else:\n",
        "\n",
        "      if not stack:\n",
        "        return False\n",
        "      top=stack.pop()\n",
        "      if top=='(' and i !=')':\n",
        "        return False\n",
        "  if stack:\n",
        "    return False\n",
        "  return True\n",
        "\n",
        "s=\"(()())()\"\n",
        "print(balance(s))\n",
        "\n"
      ],
      "metadata": {
        "colab": {
          "base_uri": "https://localhost:8080/"
        },
        "id": "UDGiYreW75dJ",
        "outputId": "0e0d5eb4-54d4-4543-93f3-9ff921397052"
      },
      "execution_count": null,
      "outputs": [
        {
          "output_type": "stream",
          "name": "stdout",
          "text": [
            "True\n"
          ]
        }
      ]
    },
    {
      "cell_type": "code",
      "source": [
        "def push(number):\n",
        "  stack=[]\n",
        "  for digit in number:\n",
        "    stack.append(int(digit))\n",
        "  return stack\n",
        "\n",
        "def add(num1,num2):\n",
        "  stack1=push(num1)\n",
        "  stack2=push(num2)\n",
        "  result=[]\n",
        "  carry=0\n",
        "\n",
        "  while stack1 or stack2 or carry:\n",
        "    digit1=stack1.pop() if stack1 else 0\n",
        "    digit2=stack2.pop() if stack2 else 0\n",
        "\n",
        "    total=digit1 + digit2 + carry\n",
        "    result.append(total%10)\n",
        "    carry=total//10\n",
        "  result1=''\n",
        "  while result:\n",
        "    result1 += str(result.pop())\n",
        "  return result1\n",
        "\n",
        "num1=input()\n",
        "num2=input()\n",
        "print(add(num1,num2))\n",
        "\n"
      ],
      "metadata": {
        "colab": {
          "base_uri": "https://localhost:8080/"
        },
        "id": "ea64fMLfVX8Q",
        "outputId": "abe05c87-72a7-497c-f97d-99c9e2fc4a6f"
      },
      "execution_count": null,
      "outputs": [
        {
          "output_type": "stream",
          "name": "stdout",
          "text": [
            "8\n",
            "9\n",
            "17\n"
          ]
        }
      ]
    },
    {
      "cell_type": "code",
      "source": [
        "s=\"helloo\"\n",
        "n=len(s)\n",
        "for i in range(n):\n",
        "  for j in range(i + 1, n + 1):\n",
        "    print(s[i:j])"
      ],
      "metadata": {
        "colab": {
          "base_uri": "https://localhost:8080/"
        },
        "id": "pjz_bXPboGkN",
        "outputId": "25a85ffa-b639-4a0b-c6cb-ab9fb1ec3a18"
      },
      "execution_count": null,
      "outputs": [
        {
          "output_type": "stream",
          "name": "stdout",
          "text": [
            "h\n",
            "he\n",
            "hel\n",
            "hell\n",
            "hello\n",
            "helloo\n",
            "e\n",
            "el\n",
            "ell\n",
            "ello\n",
            "elloo\n",
            "l\n",
            "ll\n",
            "llo\n",
            "lloo\n",
            "l\n",
            "lo\n",
            "loo\n",
            "o\n",
            "oo\n",
            "o\n"
          ]
        }
      ]
    },
    {
      "cell_type": "code",
      "source": [
        "class Queue:\n",
        "    def __init__(self,size):\n",
        "        self.l=[None]*size\n",
        "        self.front=-1\n",
        "        self.rear=-1\n",
        "        self.size=size\n",
        "    def enqueue(self,value):\n",
        "        if self.rear==self.size-1:\n",
        "            print(\"queue is full\")\n",
        "            return\n",
        "        if self.front==-1:\n",
        "            self.front=0\n",
        "\n",
        "        self.rear+=1\n",
        "        self.l[self.rear]=value\n",
        "\n",
        "    def dequeue(self):\n",
        "        if self.front==-1:\n",
        "            print(\"empty\")\n",
        "            return\n",
        "        #if queue has one element\n",
        "        if self.front==self.rear:\n",
        "            item=self.l[self.front]\n",
        "            self.l[self.front]=None\n",
        "            self.front=-1\n",
        "            self.rear=-1\n",
        "            return item\n",
        "        self.l[self.front]=None\n",
        "        self.front+=1\n",
        "    def display(self):\n",
        "        if self.front==-1:\n",
        "            print(\"empty\")\n",
        "            return\n",
        "        print(*self.l)\n",
        "    def isEmpty(self):\n",
        "        return self.front==-1\n",
        "    def isFull(self):\n",
        "        return self.rear==self.size-1\n",
        "    def getRear(self):\n",
        "        return self.l[self.rear]\n",
        "    def getFront(self):\n",
        "        return self.l[self.front]\n",
        "\n",
        "q=Queue(5)\n",
        "q.enqueue(10)\n",
        "q.enqueue(20)\n",
        "q.enqueue(30)\n",
        "q.enqueue(40)\n",
        "q.enqueue(50)\n",
        "q.display()\n",
        "q.dequeue()\n",
        "q.display()\n",
        "print(q.getFront())\n",
        "print(q.getRear())\n",
        "\n",
        "\n"
      ],
      "metadata": {
        "id": "wRLKvgpobK5_"
      },
      "execution_count": null,
      "outputs": []
    },
    {
      "cell_type": "code",
      "source": [
        "#day\n",
        "\n",
        "#josephus alogrithm\n",
        "\n",
        "#josephus algorithm\n",
        "def josephus_algo(n,k):2\n",
        "\n",
        "    queue=list(range(1,n+1))\n",
        "    idx=0\n",
        "    while len(queue)>1:\n",
        "        idx=(idx+k-1)%len(queue)\n",
        "        queue.pop(idx)\n",
        "    return queue[0]\n",
        "n=int(input())\n",
        "k=int(input())\n",
        "print(josephus_algo(n,k))\n"
      ],
      "metadata": {
        "id": "FlLDOupAc3PU",
        "colab": {
          "base_uri": "https://localhost:8080/"
        },
        "outputId": "41e709d7-8d69-481a-a9e1-8c0db15e3454"
      },
      "execution_count": null,
      "outputs": [
        {
          "output_type": "error",
          "ename": "IndentationError",
          "evalue": "unexpected indent (<ipython-input-1-f510caa69ee4>, line 8)",
          "traceback": [
            "\u001b[0;36m  File \u001b[0;32m\"<ipython-input-1-f510caa69ee4>\"\u001b[0;36m, line \u001b[0;32m8\u001b[0m\n\u001b[0;31m    queue=list(range(1,n+1))\u001b[0m\n\u001b[0m    ^\u001b[0m\n\u001b[0;31mIndentationError\u001b[0m\u001b[0;31m:\u001b[0m unexpected indent\n"
          ]
        }
      ]
    },
    {
      "cell_type": "markdown",
      "source": [],
      "metadata": {
        "id": "6t-4mOGgrHFn"
      }
    }
  ]
}
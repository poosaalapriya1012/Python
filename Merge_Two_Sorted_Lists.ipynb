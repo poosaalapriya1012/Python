{
  "nbformat": 4,
  "nbformat_minor": 0,
  "metadata": {
    "colab": {
      "provenance": []
    },
    "kernelspec": {
      "name": "python3",
      "display_name": "Python 3"
    },
    "language_info": {
      "name": "python"
    }
  },
  "cells": [
    {
      "cell_type": "code",
      "execution_count": 5,
      "metadata": {
        "colab": {
          "base_uri": "https://localhost:8080/"
        },
        "id": "LC89v5_AYWbp",
        "outputId": "1318ca7a-94d1-41c3-997c-803c11f68b81"
      },
      "outputs": [
        {
          "output_type": "stream",
          "name": "stdout",
          "text": [
            "[1, 1, 2, 3, 4, 4]\n"
          ]
        }
      ],
      "source": [
        "#merge 2 sorted lists\n",
        "class Node:\n",
        "    def __init__(self, val=0):\n",
        "        self.data = val\n",
        "        self.next = None\n",
        "\n",
        "def merge(l1,l2):\n",
        "  res=[]\n",
        "  head1=l1\n",
        "  head2=l2\n",
        "  while head1 and head2:\n",
        "    if head1.data<=head2.data:\n",
        "      res.append(head1.data)\n",
        "      head1=head1.next\n",
        "    else:\n",
        "      res.append(head2.data)\n",
        "      head2=head2.next\n",
        "  while head1:\n",
        "    res.append(head1.data)\n",
        "    head1=head1.next\n",
        "  while head2:\n",
        "    res.append(head2.data)\n",
        "    head2=head2.next\n",
        "  return res\n",
        "\n",
        "\n",
        "l1=Node(1)\n",
        "l1.next=Node(2)\n",
        "l1.next.next=Node(4)\n",
        "l2=Node(1)\n",
        "l2.next=Node(3)\n",
        "l2.next.next=Node(4)\n",
        "print(merge(l1,l2))\n"
      ]
    }
  ]
}
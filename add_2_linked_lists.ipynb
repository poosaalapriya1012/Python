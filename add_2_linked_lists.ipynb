{
  "nbformat": 4,
  "nbformat_minor": 0,
  "metadata": {
    "colab": {
      "provenance": []
    },
    "kernelspec": {
      "name": "python3",
      "display_name": "Python 3"
    },
    "language_info": {
      "name": "python"
    }
  },
  "cells": [
    {
      "cell_type": "code",
      "execution_count": 1,
      "metadata": {
        "colab": {
          "base_uri": "https://localhost:8080/"
        },
        "id": "LC89v5_AYWbp",
        "outputId": "0e2b0265-7ae5-450b-a56a-38356c507a5b"
      },
      "outputs": [
        {
          "output_type": "stream",
          "name": "stdout",
          "text": [
            "7->0->4->"
          ]
        }
      ],
      "source": [
        "class Node:\n",
        "    def __init__(self,val):\n",
        "        self.data=val\n",
        "        self.nxt=None\n",
        "\n",
        "def add(l1,l2):\n",
        "  dummy=Node(0)\n",
        "  curr=dummy\n",
        "  carry=0\n",
        "\n",
        "  while l1 or l2 or carry:\n",
        "\n",
        "    if l1:\n",
        "      val1=l1.data\n",
        "    else:\n",
        "      val1=0\n",
        "    if l2:\n",
        "      val2=l2.data\n",
        "    else:\n",
        "      val2=0\n",
        "\n",
        "    total=val1+val2+carry\n",
        "    carry=total//10\n",
        "    curr.nxt=Node(total % 10)\n",
        "\n",
        "    curr=curr.nxt\n",
        "    if l1:\n",
        "      l1=l1.nxt\n",
        "    if l2:\n",
        "      l2=l2.nxt\n",
        "  temp=dummy.nxt\n",
        "  while temp!=None:\n",
        "    print(temp.data,end= '->')\n",
        "    temp=temp.nxt\n",
        "\n",
        "\n",
        "\n",
        "\n",
        "l1=Node(2)\n",
        "l1.nxt=Node(4)\n",
        "l1.nxt.nxt=Node(3)\n",
        "l2=Node(5)\n",
        "l2.nxt=Node(6)\n",
        "\n",
        "add(l1,l2)\n"
      ]
    }
  ]
}
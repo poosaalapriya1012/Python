{
  "nbformat": 4,
  "nbformat_minor": 0,
  "metadata": {
    "colab": {
      "provenance": []
    },
    "kernelspec": {
      "name": "python3",
      "display_name": "Python 3"
    },
    "language_info": {
      "name": "python"
    }
  },
  "cells": [
    {
      "cell_type": "code",
      "execution_count": null,
      "metadata": {
        "colab": {
          "base_uri": "https://localhost:8080/"
        },
        "id": "-B7jMNJAwy1f",
        "outputId": "72b06a0f-6417-4abd-e833-0a83ae3e0da3"
      },
      "outputs": [
        {
          "output_type": "stream",
          "name": "stdout",
          "text": [
            "10\n"
          ]
        }
      ],
      "source": [
        "class Node:\n",
        "  def __init__(self,val):\n",
        "    self.data=val\n",
        "    self.left=None\n",
        "    self.right=None\n",
        "  def printtree(self):\n",
        "    print(self.data)\n",
        "\n",
        "root=Node(10)\n",
        "root.printtree()\n"
      ]
    },
    {
      "cell_type": "code",
      "source": [
        "class Node:\n",
        "  def __init__(self,val):\n",
        "    self.data=val\n",
        "    self.left=None\n",
        "    self.right=None\n",
        "\n",
        "root=Node(20)\n",
        "root.left=Node(30)\n",
        "root.right=Node(40)\n",
        "root.left.left=Node(65)\n"
      ],
      "metadata": {
        "id": "_YkFkzrk6Mou"
      },
      "execution_count": null,
      "outputs": []
    },
    {
      "cell_type": "code",
      "source": [
        "# BST Implementation in Python\n",
        "class Node:\n",
        "    def __init__(self, data):\n",
        "        self.left = None\n",
        "        self.right = None\n",
        "        self.data = data\n",
        "\n",
        "    def insert(self, data):\n",
        "        if data < self.data:\n",
        "            if self.left is None:\n",
        "                self.left = Node(data)\n",
        "            else:\n",
        "                self.left.insert(data)\n",
        "        elif data > self.data:\n",
        "            if self.right is None:\n",
        "                self.right = Node(data)\n",
        "            else:\n",
        "                self.right.insert(data)\n",
        "\n",
        "    def inorder(self):\n",
        "        if self.left:\n",
        "            self.left.inorder()\n",
        "        print(self.data, end=' ')\n",
        "        if self.right:\n",
        "            self.right.inorder()\n",
        "\n",
        "    def preorder(self):\n",
        "        print(self.data, end=' ')\n",
        "        if self.left:\n",
        "            self.left.preorder()\n",
        "        if self.right:\n",
        "            self.right.preorder()\n",
        "\n",
        "    def postorder(self):\n",
        "        if self.left:\n",
        "            self.left.postorder()\n",
        "        if self.right:\n",
        "            self.right.postorder()\n",
        "        print(self.data, end=' ')\n",
        "    def display(self):\n",
        "      if self.data:\n",
        "        print(self.data)\n",
        "\n",
        "# Create root node\n",
        "root = Node(10)\n",
        "# Insert more nodes\n",
        "root.insert(5)\n",
        "root.insert(20)\n",
        "root.insert(15)\n",
        "root.insert(15)  # Duplicate; will be ignored\n",
        "root.insert(2)\n",
        "root.insert(7)\n",
        "\n",
        "# Print traversals\n",
        "print(\"Inorder traversal:\")\n",
        "root.inorder()   # Output: 2 5 7 10 15 20\n",
        "\n",
        "print(\"\\nPreorder traversal:\")\n",
        "root.preorder()  # Output: 10 5 2 7 20 15\n",
        "\n",
        "print(\"\\nPostorder traversal:\")\n",
        "root.postorder() # Output: 2 7 5 15 20 10\n"
      ],
      "metadata": {
        "colab": {
          "base_uri": "https://localhost:8080/"
        },
        "id": "PkoimMzS0OQ2",
        "outputId": "54074adb-e913-443c-ae41-9c700cded180"
      },
      "execution_count": null,
      "outputs": [
        {
          "output_type": "stream",
          "name": "stdout",
          "text": [
            "Inorder traversal:\n",
            "2 5 7 10 15 20 \n",
            "Preorder traversal:\n",
            "10 5 2 7 20 15 \n",
            "Postorder traversal:\n",
            "2 7 5 15 20 10 "
          ]
        }
      ]
    },
    {
      "cell_type": "markdown",
      "source": [
        "#traversal"
      ],
      "metadata": {
        "id": "MYQE9CSEvma4"
      }
    },
    {
      "cell_type": "code",
      "source": [
        "# BST Node Class\n",
        "class Node:\n",
        "    def __init__(self, data):\n",
        "        self.left = None\n",
        "        self.right = None\n",
        "        self.data = data\n",
        "\n",
        "    def insert(self, data):\n",
        "        if data < self.data:\n",
        "            if self.left is None:\n",
        "                self.left = Node(data)\n",
        "            else:\n",
        "                self.left.insert(data)\n",
        "        elif data > self.data:\n",
        "            if self.right is None:\n",
        "                self.right = Node(data)\n",
        "            else:\n",
        "                self.right.insert(data)\n",
        "\n",
        "# Traversal and Display Functions Outside the Class\n",
        "def inorder(node):\n",
        "    if node:\n",
        "        inorder(node.left)\n",
        "        print(node.data, end=' ')\n",
        "        inorder(node.right)\n",
        "\n",
        "def preorder(node):\n",
        "    if node:\n",
        "        print(node.data, end=' ')\n",
        "        preorder(node.left)\n",
        "        preorder(node.right)\n",
        "\n",
        "def postorder(node):\n",
        "    if node:\n",
        "        postorder(node.left)\n",
        "        postorder(node.right)\n",
        "        print(node.data, end=' ')\n",
        "\n",
        "def display(node):\n",
        "    if node and node.data:\n",
        "        print(node.data)\n",
        "\n",
        "# --- Usage Example ---\n",
        "# Create root node\n",
        "root = Node(10)\n",
        "\n",
        "# Insert more nodes\n",
        "root.insert(5)\n",
        "root.insert(20)\n",
        "root.insert(15)\n",
        "root.insert(15)  # Duplicate; will be ignored\n",
        "root.insert(2)\n",
        "root.insert(7)\n",
        "\n",
        "# Print traversals\n",
        "print(\"Inorder traversal:\")\n",
        "inorder(root)   # Output: 2 5 7 10 15 20\n",
        "\n",
        "print(\"\\nPreorder traversal:\")\n",
        "preorder(root)  # Output: 10 5 2 7 20 15\n",
        "\n",
        "print(\"\\nPostorder traversal:\")\n",
        "postorder(root) # Output: 2 7 5 15 20 10\n",
        "\n",
        "print(\"\\nDisplay root:\")\n",
        "display(root)   # Output: 10\n"
      ],
      "metadata": {
        "id": "vTG2Kuh-Tbzb"
      },
      "execution_count": null,
      "outputs": []
    },
    {
      "cell_type": "markdown",
      "source": [
        "#identical tree"
      ],
      "metadata": {
        "id": "Mc7vPbddvi8i"
      }
    },
    {
      "cell_type": "code",
      "source": [
        "class Node:\n",
        "  def __init__(self,val):\n",
        "    self.data=val\n",
        "    self.left=None\n",
        "    self.right=None\n",
        "def identical(r1,r2):\n",
        "  if r1 is None and r2 is None:\n",
        "    return True\n",
        "  if r1 is None or r2 is None:\n",
        "    return False\n",
        "  return (r1.data==r2.data and identical(r1.left,r2.left) and identical(r1.right,r2.right))\n",
        "\n",
        "if __name__==\"__main__\":\n",
        "  r1= Node(1)\n",
        "  r1.left=Node(2)\n",
        "  r1.right=Node(3)\n",
        "  r1.left.left=Node(4)\n",
        "  r2=Node(1)\n",
        "  r2.left=Node(2)\n",
        "  r2.right=Node(3)\n",
        "  r2.left.left=Node(5)\n",
        "  print(identical(r1,r2))"
      ],
      "metadata": {
        "colab": {
          "base_uri": "https://localhost:8080/"
        },
        "id": "3ffYyHcPTdUX",
        "outputId": "d47e5247-f73e-4dce-e00c-75897bc25172"
      },
      "execution_count": null,
      "outputs": [
        {
          "output_type": "stream",
          "name": "stdout",
          "text": [
            "False\n"
          ]
        }
      ]
    },
    {
      "cell_type": "markdown",
      "source": [
        "#is symmetric tree or not\n"
      ],
      "metadata": {
        "id": "uaK79m-_tas1"
      }
    },
    {
      "cell_type": "code",
      "source": [
        "class Node:\n",
        "  def __init__(self,val):\n",
        "    self.val=val\n",
        "    self.left=None\n",
        "    self.right=None\n",
        "def issymmetric(root):\n",
        "  def ismirror(t1,t2):\n",
        "    if not t1 and not t2:\n",
        "      return True\n",
        "    if not t1 or not t2:\n",
        "      return False\n",
        "    return (t1.val == t2.val) and ismirror(t1.left,t2.right) and ismirror(t1.right , t2.left)\n",
        "  return ismirror(root,root)\n",
        "\n",
        "tree=Node(1)\n",
        "tree.left=Node(2)\n",
        "tree.right=Node(2)\n",
        "tree.left.left=Node(3)\n",
        "tree.right.right=Node(9)\n",
        "print(issymmetric(tree))"
      ],
      "metadata": {
        "colab": {
          "base_uri": "https://localhost:8080/"
        },
        "id": "3X9L0EYxtZw9",
        "outputId": "90db3091-861e-477e-9b67-f210ae7520e4"
      },
      "execution_count": null,
      "outputs": [
        {
          "output_type": "stream",
          "name": "stdout",
          "text": [
            "False\n"
          ]
        }
      ]
    },
    {
      "cell_type": "markdown",
      "source": [
        "#An AVL Tree is a self-balancing Binary Search Tree (BST) where the difference between heights of the left and right subtrees (called the balance factor) is always -1, 0, or 1."
      ],
      "metadata": {
        "id": "w-z5J-ge16wO"
      }
    },
    {
      "cell_type": "code",
      "source": [
        "class Node:\n",
        "    def _init_(self, key):\n",
        "        self.key = key\n",
        "        self.left = None\n",
        "        self.right = None\n",
        "        self.height = 1\n",
        "\n",
        "def get_height(node):\n",
        "    if not node:\n",
        "        return 0\n",
        "    return node.height\n",
        "def get_balance(self,node):\n",
        "    if not node:\n",
        "        return 0\n",
        "    return self.get_height(node.left)-self.get_height(node.right)\n",
        "def right_rotate(z):\n",
        "    y = z.right\n",
        "    T3 = y.right\n",
        "\n",
        "\n",
        "    y.right = z\n",
        "    z.left = T3\n",
        "\n",
        "\n",
        "    z.height= 1 + max(self.get_height(z.left), self.get_height(z.right))\n",
        "    y.height= 1 + max(self.get_height(y.left), self.get_height(y.right))\n",
        "    return y\n",
        "\n",
        "def left_rotate(z):\n",
        "    y = z.right\n",
        "    T2 = y.left\n",
        "\n",
        "\n",
        "    y.left = z\n",
        "    z.right = T2\n",
        "\n",
        "\n",
        "    z.height= 1 + max(self.get_height(z.left), self.get_height(z.right))\n",
        "    y.height= 1 + max(self.get_height(y.left), self.get_height(y.right))\n",
        "\n",
        "\n",
        "\n",
        "    return y\n",
        "\n",
        "def insert(self,z):\n",
        "   if not node:\n",
        "       return Node(key)\n",
        "    if key<node.key:\n",
        "        node.left=self.insert(node.left,key)\n",
        "    elif key>node.key:\n",
        "        node.right=self.insert(node.right,key)\n",
        "    else:\n",
        "        return node\n",
        "    node.height=1+max(self.get_height(node.left),self.get_height(node.right))\n",
        "    balance=self.get_balance(node)\n",
        "    def pre_order(self,node):\n",
        "        if not node:\n",
        "            print(\n",
        "\n",
        "avl_tree=AVLTree()\n",
        "root=None\n",
        "keys=[10,20,30,40,50]\n",
        "for key in keys:\n",
        "    root=avl_tree.insert(root,key)\n",
        "\n",
        "print(\"AVL tree is :\",end=\" \")\n",
        "avl_tree.preorder(root)\n"
      ],
      "metadata": {
        "id": "sgn_rE1M184I"
      },
      "execution_count": null,
      "outputs": []
    },
    {
      "cell_type": "markdown",
      "source": [
        "#sum of unique elements leetcode"
      ],
      "metadata": {
        "id": "j2EO3070DL5i"
      }
    },
    {
      "cell_type": "markdown",
      "source": [
        "3rd week\n"
      ],
      "metadata": {
        "id": "vghY7PGzGMoZ"
      }
    },
    {
      "cell_type": "code",
      "source": [
        "class Solution:\n",
        "    def sumOfUnique(self, nums):\n",
        "        count = {}\n",
        "        for num in nums:\n",
        "            count[num] = count.get(num, 0) + 1\n",
        "        total = 0\n",
        "        for num in count:\n",
        "            if count[num] == 1:\n",
        "                total += num\n",
        "        return total\n",
        "\n",
        "# Example:\n",
        "sol = Solution()\n",
        "print(sol.sumOfUnique([1, 2, 3, 2]))  # Output: 4\n"
      ],
      "metadata": {
        "colab": {
          "base_uri": "https://localhost:8080/"
        },
        "id": "RJz_r0Sh6_IM",
        "outputId": "b9051d71-7e8c-4cf7-a884-958123521695"
      },
      "execution_count": null,
      "outputs": [
        {
          "output_type": "stream",
          "name": "stdout",
          "text": [
            "4\n"
          ]
        }
      ]
    },
    {
      "cell_type": "code",
      "source": [
        "\n",
        "nums=[1,1,2,3,4,5,5,5]\n",
        "count=[0]*( max(nums)+1 )\n",
        "sum1=0\n",
        "for i in nums:\n",
        "  count[i]+=1\n",
        "for i in range(len(count)):\n",
        "  if count[i]==1:\n",
        "    sum1+=i\n",
        "\n",
        "print(sum1)"
      ],
      "metadata": {
        "colab": {
          "base_uri": "https://localhost:8080/"
        },
        "id": "0xW0He4q625s",
        "outputId": "1d6d763c-7e81-4367-d400-cb44b94cfe71"
      },
      "execution_count": null,
      "outputs": [
        {
          "output_type": "stream",
          "name": "stdout",
          "text": [
            "9\n"
          ]
        }
      ]
    },
    {
      "cell_type": "markdown",
      "source": [
        "#number of set (1) bits leetcode"
      ],
      "metadata": {
        "id": "R7N_xh9HF3QL"
      }
    },
    {
      "cell_type": "code",
      "source": [
        "n=11\n",
        "count=0\n",
        "binary=str(bin(n))\n",
        "binary=binary[2:]\n",
        "for i in binary:\n",
        "  if i=='1':\n",
        "    count+=1\n",
        "print(count)"
      ],
      "metadata": {
        "colab": {
          "base_uri": "https://localhost:8080/"
        },
        "id": "eApwLKMAFy_k",
        "outputId": "69697fd7-0297-4f10-c3f3-07c1d3dc4592"
      },
      "execution_count": null,
      "outputs": [
        {
          "output_type": "stream",
          "name": "stdout",
          "text": [
            "3\n"
          ]
        }
      ]
    },
    {
      "cell_type": "code",
      "source": [
        "n=13\n",
        "count=0\n",
        "while n!=0:\n",
        "    count=count+(n&1)\n",
        "    n=n>>1#right shift n by 1 bit\n",
        "print(count)"
      ],
      "metadata": {
        "colab": {
          "base_uri": "https://localhost:8080/"
        },
        "id": "jF375UcGN7xr",
        "outputId": "53a7ff59-968e-433d-a024-c6c0a9ccb1ff"
      },
      "execution_count": null,
      "outputs": [
        {
          "output_type": "stream",
          "name": "stdout",
          "text": [
            "3\n"
          ]
        }
      ]
    },
    {
      "cell_type": "markdown",
      "source": [
        "#bitwise and of range"
      ],
      "metadata": {
        "id": "SRnjUEYNZsXY"
      }
    },
    {
      "cell_type": "markdown",
      "source": [
        "#Counting Bits"
      ],
      "metadata": {
        "id": "SPH1sFldZ9YP"
      }
    },
    {
      "cell_type": "code",
      "source": [
        "\n",
        "def countBits(n):\n",
        "    arr=[0]*(n+1)\n",
        "    for i in range(n+1):\n",
        "      arr[i]=bin(i).count('1')\n",
        "    return arr\n",
        "\n",
        "\n",
        "\n",
        "n = 5\n",
        "result = countBits(n)\n",
        "print(result)"
      ],
      "metadata": {
        "colab": {
          "base_uri": "https://localhost:8080/"
        },
        "id": "l49yVAfffRXm",
        "outputId": "8e4c9f1e-e8ad-42c2-a6b2-d0daa1fdba9f"
      },
      "execution_count": null,
      "outputs": [
        {
          "output_type": "stream",
          "name": "stdout",
          "text": [
            "[0, 1, 1, 2, 1, 2]\n"
          ]
        }
      ]
    },
    {
      "cell_type": "code",
      "source": [
        "n=5\n",
        "arr=[0]*(n+1)\n",
        "for i in range(n+1):\n",
        "  arr[i]=arr[i>>1]+(i & 1)\n",
        "print(arr)\n",
        "\n"
      ],
      "metadata": {
        "colab": {
          "base_uri": "https://localhost:8080/"
        },
        "id": "yxCHQnfGaB73",
        "outputId": "123dbba9-5a67-4a80-f234-261cd7f16bf5"
      },
      "execution_count": null,
      "outputs": [
        {
          "output_type": "stream",
          "name": "stdout",
          "text": [
            "[0, 1, 1, 2, 1, 2]\n"
          ]
        }
      ]
    },
    {
      "cell_type": "markdown",
      "source": [
        "#Missing number"
      ],
      "metadata": {
        "id": "8Zf0Aylgf_i1"
      }
    },
    {
      "cell_type": "code",
      "source": [
        "def find_missing_number(numbers):\n",
        "    n = len(numbers)\n",
        "    result = n\n",
        "    for i in range(n):\n",
        "        result ^= i ^ numbers[i]\n",
        "    return result\n",
        "\n",
        "nums=[3,0,1]\n",
        "print(find_missing_number(nums))"
      ],
      "metadata": {
        "id": "9m9nLkYGgDHI",
        "colab": {
          "base_uri": "https://localhost:8080/"
        },
        "outputId": "e78f1e4e-6663-46e3-b10b-69e6d2a26a22"
      },
      "execution_count": null,
      "outputs": [
        {
          "output_type": "stream",
          "name": "stdout",
          "text": [
            "2\n"
          ]
        }
      ]
    },
    {
      "cell_type": "markdown",
      "source": [
        "single number 2"
      ],
      "metadata": {
        "id": "QvOMMVsvkKfB"
      }
    },
    {
      "cell_type": "markdown",
      "source": [
        "recursion"
      ],
      "metadata": {
        "id": "fLaeaX3k1M2c"
      }
    },
    {
      "cell_type": "code",
      "source": [
        "n=int(input())\n",
        "fact=1\n",
        "for i in range(1,n+1):\n",
        "    fact=fact*i\n",
        "print(fact)\n",
        "\n",
        "def factorial(n):\n",
        "    if n==1:\n",
        "        return 1\n",
        "    else:\n",
        "        return (n)*factorial(n-1)\n",
        "n=int(input())\n",
        "print(factorial(n))"
      ],
      "metadata": {
        "colab": {
          "base_uri": "https://localhost:8080/"
        },
        "id": "K-tDol7a1O-8",
        "outputId": "3f0b950a-dfcb-47dc-dc04-7ee46cb8b0ba"
      },
      "execution_count": null,
      "outputs": [
        {
          "output_type": "stream",
          "name": "stdout",
          "text": [
            "5\n",
            "120\n",
            "4\n",
            "24\n"
          ]
        }
      ]
    },
    {
      "cell_type": "markdown",
      "source": [
        "#Add 2numbers"
      ],
      "metadata": {
        "id": "DUEDVx8V4qiu"
      }
    },
    {
      "cell_type": "code",
      "source": [
        "def add(a,b):\n",
        "    if b==0:\n",
        "        return a\n",
        "    else:\n",
        "        return add(a+1,b-1)\n",
        "a=2\n",
        "b=1\n",
        "print(add(a,b))"
      ],
      "metadata": {
        "colab": {
          "base_uri": "https://localhost:8080/"
        },
        "id": "0cV7C6Sl1gfl",
        "outputId": "35b4bbad-52f4-4770-80c5-d3e1d02d46d2"
      },
      "execution_count": null,
      "outputs": [
        {
          "output_type": "stream",
          "name": "stdout",
          "text": [
            "3\n"
          ]
        }
      ]
    },
    {
      "cell_type": "code",
      "source": [
        "#reverse number\n",
        "'''reverse(356, 0)\n",
        "  → reverse(35, 6)\n",
        "     → reverse(3, 65)\n",
        "        → reverse(0, 653)\n",
        "           → returns 653\n",
        "        → returns 653\n",
        "     → returns 653\n",
        "  → returns 653\n",
        "'''\n",
        "def reverse(n,rev=0):\n",
        "\n",
        "  if n==0:\n",
        "    return rev\n",
        "  return reverse(n//10,rev * 10 + n%10)\n",
        "n=356\n",
        "print(reverse(n))\n"
      ],
      "metadata": {
        "colab": {
          "base_uri": "https://localhost:8080/"
        },
        "id": "E0oGoMSR4uqd",
        "outputId": "0b1d2fdd-b17c-467b-806a-89e6b3ad8e70"
      },
      "execution_count": null,
      "outputs": [
        {
          "output_type": "stream",
          "name": "stdout",
          "text": [
            "653\n"
          ]
        }
      ]
    },
    {
      "cell_type": "code",
      "source": [
        "#climbing stairs"
      ],
      "metadata": {
        "id": "iTwzMbLOCjdz"
      },
      "execution_count": null,
      "outputs": []
    },
    {
      "cell_type": "markdown",
      "source": [
        "kth grmmar"
      ],
      "metadata": {
        "id": "u3OsClptR-pW"
      }
    },
    {
      "cell_type": "markdown",
      "source": [
        "Minimum size subarray sum"
      ],
      "metadata": {
        "id": "RWwqmq0vDOIx"
      }
    },
    {
      "cell_type": "code",
      "source": [
        "arr=[1,4,4]\n",
        "\n",
        "target=4\n",
        "l=0\n",
        "sum1=0\n",
        "minsum=float('inf')\n",
        "for r in range(len(arr)):\n",
        "   sum1+=arr[r]\n",
        "   while sum1>=target:\n",
        "    minsum=min(minsum,r-l+1)\n",
        "    sum1-=arr[l]\n",
        "    l+=1\n",
        "print(minsum)"
      ],
      "metadata": {
        "colab": {
          "base_uri": "https://localhost:8080/"
        },
        "id": "keCg8ufnCF1i",
        "outputId": "bbc1190c-0055-421e-94c4-51a66c876f6b"
      },
      "execution_count": null,
      "outputs": [
        {
          "output_type": "stream",
          "name": "stdout",
          "text": [
            "1\n"
          ]
        }
      ]
    },
    {
      "cell_type": "markdown",
      "source": [
        "#Linear search"
      ],
      "metadata": {
        "id": "v1_hEzuBBBbO"
      }
    },
    {
      "cell_type": "code",
      "source": [
        "def linearSearch(arr,elt):\n",
        "    for i in range(len(arr)):\n",
        "        if arr[i]==elt:\n",
        "            print(\"Element found at position:\",i+1)\n",
        "            #print(\"Index\",i)\n",
        "            return i\n",
        "    return -1\n",
        "arr=[75, 35, 22, 56, 86, 99, 27]\n",
        "elt=86\n",
        "ans=linearSearch(arr, elt)\n",
        "if ans==-1:\n",
        "    print(\"Element not found\")\n",
        "else:\n",
        "    print(\"Element found at index:\", ans)"
      ],
      "metadata": {
        "colab": {
          "base_uri": "https://localhost:8080/"
        },
        "id": "RY6rEObHBITP",
        "outputId": "1c332abf-a3e9-478c-eac0-331e3bb86fe3"
      },
      "execution_count": null,
      "outputs": [
        {
          "output_type": "stream",
          "name": "stdout",
          "text": [
            "Element found at position: 5\n",
            "Element found at index: 4\n"
          ]
        }
      ]
    },
    {
      "cell_type": "code",
      "source": [
        "def linearsch(a,idx):\n",
        "    if idx>=len(a):\n",
        "        return -1\n",
        "    if a[idx]==key:\n",
        "        return idx\n",
        "    else:\n",
        "        return linearsch(a,idx+1)\n",
        "\n",
        "a=[23,45,65,89,90]\n",
        "key=45\n",
        "print(linearsch(a,0))"
      ],
      "metadata": {
        "colab": {
          "base_uri": "https://localhost:8080/"
        },
        "id": "Vn0vYZ-yFrR_",
        "outputId": "88a8468b-bce5-41ea-8677-38192a48f614"
      },
      "execution_count": null,
      "outputs": [
        {
          "output_type": "stream",
          "name": "stdout",
          "text": [
            "1\n"
          ]
        }
      ]
    },
    {
      "cell_type": "code",
      "source": [
        "def linearsch(a,target,n):\n",
        "    if n==0:\n",
        "        return -1\n",
        "    if a[n-1]==target:\n",
        "        return n-1\n",
        "    else:\n",
        "        return linearsch(a,target,n-1)\n",
        "\n",
        "a=[23,45,65,89,90]\n",
        "key=45\n",
        "print(linearsch(a,key,5))"
      ],
      "metadata": {
        "colab": {
          "base_uri": "https://localhost:8080/"
        },
        "id": "Rzb3jF7jHvDx",
        "outputId": "21549860-ac54-4ecb-aae6-98ba850c0dea"
      },
      "execution_count": null,
      "outputs": [
        {
          "output_type": "stream",
          "name": "stdout",
          "text": [
            "1\n"
          ]
        }
      ]
    },
    {
      "cell_type": "code",
      "source": [
        "def interpolationSearch(arr, elt):\n",
        "    n=len(arr)\n",
        "    left=0\n",
        "    right=n-1\n",
        "    while left<=right and elt>=arr[left] and elt<=arr[right]:\n",
        "        mid=left+((elt-arr[left])*(right-left))//(arr[right]-arr[left])\n",
        "        if arr[mid]==elt:\n",
        "            return mid\n",
        "        if arr[mid]<elt:\n",
        "            left=mid+1\n",
        "        else:\n",
        "            right=mid-1\n",
        "    return -1\n",
        "arr=[75, 35, 22, 56, 86, 99, 27]\n",
        "arr.sort()\n",
        "print(arr)\n",
        "elt=86\n",
        "ans=interpolationSearch(arr,elt)\n",
        "if ans!=-1:\n",
        "    print('Interpolation search:',ans)\n",
        "else:\n",
        "    print('Element not found')"
      ],
      "metadata": {
        "colab": {
          "base_uri": "https://localhost:8080/"
        },
        "id": "-vUEoyeqOf2k",
        "outputId": "484f7bca-e802-4124-aa19-dd679658acdc"
      },
      "execution_count": null,
      "outputs": [
        {
          "output_type": "stream",
          "name": "stdout",
          "text": [
            "[22, 27, 35, 56, 75, 86, 99]\n",
            "Interpolation search: 5\n"
          ]
        }
      ]
    },
    {
      "cell_type": "code",
      "source": [
        "def exponentialSearch(arr, elt):\n",
        "  if arr[0]==elt:\n",
        "    return 0\n",
        "  i=1\n",
        "  while i<len(arr) and arr[i]<=elt:\n",
        "    i*=2\n",
        "  res=binarySearch(arr, elt, i//2, min(i, len(arr)-1))\n",
        "  return res\n",
        "def binarySearch(arr, elt,left, right):\n",
        "    n=len(arr)\n",
        "    while left<=right:\n",
        "        mid=(left+right)>>1\n",
        "        if arr[mid]==elt:\n",
        "            return mid\n",
        "        if arr[mid]>=elt:\n",
        "            right=mid\n",
        "        else:\n",
        "            left=mid+1\n",
        "    return -1\n",
        "arr=[75, 35, 22, 56, 86, 99, 27]\n",
        "arr.sort()\n",
        "print(arr)"
      ],
      "metadata": {
        "id": "V_fWrUzGbE_x",
        "outputId": "a1f434bf-a084-40f9-a059-547e4d1276c3",
        "colab": {
          "base_uri": "https://localhost:8080/"
        }
      },
      "execution_count": null,
      "outputs": [
        {
          "output_type": "stream",
          "name": "stdout",
          "text": [
            "[22, 27, 35, 56, 75, 86, 99]\n"
          ]
        }
      ]
    },
    {
      "cell_type": "code",
      "source": [
        "def fun(n):\n",
        "  l=0\n",
        "  h=n\n",
        "  while l<=h:\n",
        "    mid=(l+h)//2\n",
        "    if mid*mid==n:\n",
        "      return mid\n",
        "    elif mid*mid<n:\n",
        "      l=mid+1\n",
        "    elif mid*mid>n:\n",
        "      h=mid-1\n",
        "  return -1\n",
        "n=25\n",
        "print(fun(49))\n"
      ],
      "metadata": {
        "colab": {
          "base_uri": "https://localhost:8080/"
        },
        "id": "8RepTsvFAXAK",
        "outputId": "264e09ce-d8ff-41f4-d298-fcb6bc59c092"
      },
      "execution_count": null,
      "outputs": [
        {
          "output_type": "stream",
          "name": "stdout",
          "text": [
            "7\n"
          ]
        }
      ]
    },
    {
      "cell_type": "markdown",
      "source": [
        "missing number"
      ],
      "metadata": {
        "id": "1GnTl7GyOOOz"
      }
    },
    {
      "cell_type": "code",
      "source": [
        "#peak element\n",
        "def fun(nums):\n",
        "  if len(nums)==1:\n",
        "    return 0\n",
        "\n",
        "  for i in range(1,len(nums)-1):\n",
        "    if nums[i]>nums[i-1] and nums[i]>nums[i+1]:\n",
        "      return i\n",
        "  if len(nums)>1:\n",
        "    if nums[0]>nums[1]:\n",
        "        return 0\n",
        "    elif nums[-1]>nums[-2]:\n",
        "        return  len(nums)-1\n",
        "  return -1\n",
        "nums=[5,4,3,2,1]\n",
        "print(fun(nums))"
      ],
      "metadata": {
        "colab": {
          "base_uri": "https://localhost:8080/"
        },
        "id": "FZIzPj4XToxG",
        "outputId": "cf5d2277-06b7-4472-b0a5-df8c108de1d1"
      },
      "execution_count": null,
      "outputs": [
        {
          "output_type": "stream",
          "name": "stdout",
          "text": [
            "0\n"
          ]
        }
      ]
    },
    {
      "cell_type": "code",
      "source": [
        "nums = [1,2,3,1]\n",
        "l=0\n",
        "r=len(nums)-1\n",
        "while l<r:\n",
        "  mid=(l+r)//2\n",
        "  if nums[mid]>nums[mid+1]:\n",
        "    r=mid\n",
        "  else:\n",
        "    l=mid+1\n",
        "\n",
        "print(r)"
      ],
      "metadata": {
        "colab": {
          "base_uri": "https://localhost:8080/"
        },
        "id": "iwRxKeKnZfVz",
        "outputId": "517a322d-590f-4fa4-d691-cc4472d88993"
      },
      "execution_count": null,
      "outputs": [
        {
          "output_type": "stream",
          "name": "stdout",
          "text": [
            "2\n"
          ]
        }
      ]
    },
    {
      "cell_type": "code",
      "source": [
        "#minimum time to repair cars\n",
        "\n"
      ],
      "metadata": {
        "id": "2922Je9WOQIZ"
      },
      "execution_count": null,
      "outputs": []
    },
    {
      "cell_type": "code",
      "source": [
        "#bubble sort\n",
        "def bubbleSort(nums):\n",
        "  n=len(nums)\n",
        "  for i in range(0,n):\n",
        "    swapped=False\n",
        "    for j in range(0, n-i-1):\n",
        "      if nums[j]>nums[j+1]:\n",
        "        nums[j], nums[j+1]=nums[j+1],nums[j]\n",
        "        swapped=True\n",
        "    if swapped==False:\n",
        "      break\n",
        "  return nums\n",
        "nums=list(map(int, input().split()))\n",
        "print(bubbleSort(nums))"
      ],
      "metadata": {
        "colab": {
          "base_uri": "https://localhost:8080/"
        },
        "id": "WDpUWpZbmrwm",
        "outputId": "5615b0c4-95dd-46cd-a3c8-bd833026042b"
      },
      "execution_count": null,
      "outputs": [
        {
          "output_type": "stream",
          "name": "stdout",
          "text": [
            "1 2 3\n",
            "[1, 2, 3]\n"
          ]
        }
      ]
    },
    {
      "cell_type": "code",
      "source": [
        "def quickSort(nums, low=0, high=None):\n",
        "    if high is None:\n",
        "        high = len(nums) - 1\n",
        "    if low < high:\n",
        "        p = low\n",
        "        i = low + 1\n",
        "        j = high\n",
        "        while i <= j:\n",
        "            while i <= high and nums[i] <= nums[p]:\n",
        "                i += 1\n",
        "            while nums[j] > nums[p]:\n",
        "                j -= 1\n",
        "            if i <= j:\n",
        "                nums[i], nums[j] = nums[j], nums[i]\n",
        "        nums[p], nums[j] = nums[j], nums[p]\n",
        "        quickSort(nums, low, j - 1)\n",
        "        quickSort(nums, j + 1, high)\n",
        "    return nums\n",
        "\n",
        "nums = list(map(int, input().split()))\n",
        "print(quickSort(nums))"
      ],
      "metadata": {
        "colab": {
          "base_uri": "https://localhost:8080/"
        },
        "id": "bkZj-jKju4b4",
        "outputId": "479bbf5a-a25a-4f27-c6fd-95147dfaebd2"
      },
      "execution_count": null,
      "outputs": [
        {
          "output_type": "stream",
          "name": "stdout",
          "text": [
            " 23 14\n",
            "[14, 23]\n"
          ]
        }
      ]
    },
    {
      "cell_type": "code",
      "source": [
        " bucketCount = 10\n",
        "    minVal = min(nums)\n",
        "    maxVal = max(nums)\n",
        "\n",
        "    if minVal == maxVal:\n",
        "        return nums\n",
        "\n",
        "    bucketRange = (maxVal - minVal) / bucketCount\n",
        "\n",
        "    buckets = [[] for _ in range(bucketCount)]\n",
        "\n",
        "    for num in nums:\n",
        "        index = int((num - minVal) / bucketRange)\n",
        "        if index == bucketCount:\n",
        "            index -= 1\n",
        "        buckets[index].append(num)\n",
        "\n",
        "    result = []\n",
        "    for bucket in buckets:\n",
        "        bucket.sort()\n",
        "        result.extend(bucket)\n",
        "\n",
        "    return result\n",
        "\n",
        "nums = list(map(int, \"1 7 3 8 6 2 5 4\".split()))\n",
        "print(bucketSort(nums))"
      ],
      "metadata": {
        "colab": {
          "base_uri": "https://localhost:8080/",
          "height": 106
        },
        "id": "96TN8x8GMz9J",
        "outputId": "70c25607-8d36-4940-cb1e-8942e8e8d585"
      },
      "execution_count": null,
      "outputs": [
        {
          "output_type": "error",
          "ename": "IndentationError",
          "evalue": "unexpected indent (<ipython-input-1-3e7ec0fbcfc0>, line 2)",
          "traceback": [
            "\u001b[0;36m  File \u001b[0;32m\"<ipython-input-1-3e7ec0fbcfc0>\"\u001b[0;36m, line \u001b[0;32m2\u001b[0m\n\u001b[0;31m    minVal = min(nums)\u001b[0m\n\u001b[0m    ^\u001b[0m\n\u001b[0;31mIndentationError\u001b[0m\u001b[0;31m:\u001b[0m unexpected indent\n"
          ]
        }
      ]
    },
    {
      "cell_type": "code",
      "source": [],
      "metadata": {
        "id": "DqfdnNpAYa9Y"
      },
      "execution_count": null,
      "outputs": []
    },
    {
      "cell_type": "markdown",
      "source": [
        "#contains duplicate\n"
      ],
      "metadata": {
        "id": "UU0qjkQEQ2dF"
      }
    },
    {
      "cell_type": "code",
      "source": [
        "#third max number"
      ],
      "metadata": {
        "id": "l70oMgFvYlLg"
      },
      "execution_count": null,
      "outputs": []
    },
    {
      "cell_type": "markdown",
      "source": [
        "#Dynamic programming"
      ],
      "metadata": {
        "id": "68z09AroZekS"
      }
    },
    {
      "cell_type": "code",
      "source": [
        "#tabulation approach\n",
        "\n",
        "def fib(n):\n",
        "  if n==0:\n",
        "    return 0\n",
        "  dp=[0]*(n+1)\n",
        "  dp[1]=1\n",
        "  for i in range(2,n+1):\n",
        "    dp[i]=dp[i-1]+dp[i-2]\n",
        "  return dp[n]\n",
        "n=4\n",
        "print(fib(n))\n"
      ],
      "metadata": {
        "id": "BOTyR8-fYo95",
        "colab": {
          "base_uri": "https://localhost:8080/"
        },
        "collapsed": true,
        "outputId": "be154e77-9c41-4d1f-8495-874a6d72b488"
      },
      "execution_count": null,
      "outputs": [
        {
          "output_type": "stream",
          "name": "stdout",
          "text": [
            "3\n"
          ]
        }
      ]
    },
    {
      "cell_type": "markdown",
      "source": [
        "Climbing stairs"
      ],
      "metadata": {
        "id": "kdxiO81-bGj5"
      }
    },
    {
      "cell_type": "code",
      "source": [
        "def fib(n):\n",
        "  if n==0 or n==1:\n",
        "    return n\n",
        "  dp=[0]*(n+1)\n",
        "  dp[1]=1\n",
        "  dp[2]=2\n",
        "  for i in range(3,n+1):\n",
        "    dp[i]=dp[i-1]+dp[i-2]\n",
        "  return dp[n]\n",
        "n=3\n",
        "print(fib(n))\n"
      ],
      "metadata": {
        "colab": {
          "base_uri": "https://localhost:8080/"
        },
        "id": "jlPq9P7GbLDu",
        "outputId": "f52fc9aa-9ace-4d0a-c586-57874a62b363"
      },
      "execution_count": null,
      "outputs": [
        {
          "output_type": "stream",
          "name": "stdout",
          "text": [
            "3\n"
          ]
        }
      ]
    },
    {
      "cell_type": "markdown",
      "source": [
        "house robber"
      ],
      "metadata": {
        "id": "hAS0SmFEht6C"
      }
    },
    {
      "cell_type": "code",
      "source": [
        "def rob(nums):\n",
        "    n = len(nums)\n",
        "    if n == 0:\n",
        "        return 0\n",
        "    if n == 1:\n",
        "        return nums[0]\n",
        "    if n == 2:\n",
        "        return max(nums[0], nums[1])\n",
        "\n",
        "    dp = [0] * n\n",
        "    dp[0] = nums[0]\n",
        "    dp[1] = max(nums[0], nums[1])\n",
        "\n",
        "    for i in range(2, n):\n",
        "        dp[i] = max(dp[i-1], nums[i] + dp[i-2])\n",
        "\n",
        "    return dp[-1]\n",
        "nums=[1,2,3,1]\n",
        "\n"
      ],
      "metadata": {
        "colab": {
          "base_uri": "https://localhost:8080/"
        },
        "id": "A3MaTSlohwiU",
        "outputId": "b387239e-ae05-47dc-b8d6-415ccd3c1f64"
      },
      "execution_count": null,
      "outputs": [
        {
          "output_type": "stream",
          "name": "stdout",
          "text": [
            "8\n"
          ]
        }
      ]
    },
    {
      "cell_type": "markdown",
      "source": [
        "triangle"
      ],
      "metadata": {
        "id": "JQ5c33ggVunZ"
      }
    },
    {
      "cell_type": "code",
      "source": [
        "#min path sum\n",
        "def minPathSum(grid):\n",
        "  m=len(grid)\n",
        "  n=len(grid[0])\n",
        "  dp=[[0 for j in range(n)]for i in range(m)]\n",
        "  dp[0][0]=grid[0][0]\n",
        "  for j in range(1, n):\n",
        "    dp[0][j]=dp[0][j-1]+grid[0][j]\n",
        "  for i in range(1, m):\n",
        "    dp[i][0]=dp[i-1][0]+grid[i][0]\n",
        "  for i in range(1, m):\n",
        "    for j in range(1, n):\n",
        "      dp[i][j]=min(dp[i-1][j], dp[i][j-1]+grid[i][j])\n",
        "  return dp[m-1][n-1]\n",
        "grid=[[1,3,1],[1,5,1],[4,2,1]]\n",
        "print(minPathSum(grid))"
      ],
      "metadata": {
        "colab": {
          "base_uri": "https://localhost:8080/"
        },
        "id": "9oqwg-TGVw84",
        "outputId": "8d0cc971-8abe-4347-b7b8-16624c7f0bc3"
      },
      "execution_count": null,
      "outputs": [
        {
          "output_type": "stream",
          "name": "stdout",
          "text": [
            "5\n"
          ]
        }
      ]
    },
    {
      "cell_type": "code",
      "source": [
        "#count no of digits in number\n",
        "n=36\n",
        "c=0\n",
        "while  n!=0:\n",
        "    n=n//10\n",
        "    c+=1\n",
        "    print(n)\n",
        "print(c)\n"
      ],
      "metadata": {
        "colab": {
          "base_uri": "https://localhost:8080/"
        },
        "id": "zan88wi_wFx9",
        "outputId": "b35d56ab-981e-494f-d1ca-1031a7b6f136"
      },
      "execution_count": null,
      "outputs": [
        {
          "output_type": "stream",
          "name": "stdout",
          "text": [
            "3\n",
            "0\n",
            "2\n"
          ]
        }
      ]
    },
    {
      "cell_type": "code",
      "source": [
        "#finding 3 digit evn number\n",
        "digit = [1,0,2]\n",
        "n=len(digit)\n",
        "h=set()\n",
        "for i in range(n):\n",
        "  for j in range(n):\n",
        "    for k in range(n):\n",
        "      if i!=k and i!=j and j!=k :\n",
        "        a,b,c=digit[i],digit[j],digit[k]\n",
        "        if a==0:\n",
        "          continue\n",
        "        number=a*100+b*10+c\n",
        "        if number>=100 and number%2==0 and number<=999:\n",
        "          h.add(number)\n",
        "\n",
        "l=list(h)\n",
        "l.sort()\n",
        "print(l)"
      ],
      "metadata": {
        "colab": {
          "base_uri": "https://localhost:8080/"
        },
        "id": "Q67EMneu8HoJ",
        "outputId": "00ba5549-e65c-4633-8bc2-bff16fb399e6"
      },
      "execution_count": null,
      "outputs": [
        {
          "output_type": "stream",
          "name": "stdout",
          "text": [
            "[102, 120, 210]\n"
          ]
        }
      ]
    },
    {
      "cell_type": "code",
      "source": [
        "digit = [2,3]\n",
        "\n",
        "for i in range(n):\n",
        "  for j in range(n):\n",
        "    for k in range(n):\n",
        "      print(i,j,k)"
      ],
      "metadata": {
        "colab": {
          "base_uri": "https://localhost:8080/"
        },
        "id": "qZb8H9g9BYjS",
        "outputId": "4622ccf3-6bc3-4f1c-e1a8-36215f1e3b0e"
      },
      "execution_count": null,
      "outputs": [
        {
          "output_type": "stream",
          "name": "stdout",
          "text": [
            "0 0 0\n",
            "0 0 1\n",
            "0 0 2\n",
            "0 1 0\n",
            "0 1 1\n",
            "0 1 2\n",
            "0 2 0\n",
            "0 2 1\n",
            "0 2 2\n",
            "1 0 0\n",
            "1 0 1\n",
            "1 0 2\n",
            "1 1 0\n",
            "1 1 1\n",
            "1 1 2\n",
            "1 2 0\n",
            "1 2 1\n",
            "1 2 2\n",
            "2 0 0\n",
            "2 0 1\n",
            "2 0 2\n",
            "2 1 0\n",
            "2 1 1\n",
            "2 1 2\n",
            "2 2 0\n",
            "2 2 1\n",
            "2 2 2\n"
          ]
        }
      ]
    },
    {
      "cell_type": "code",
      "source": [
        "from itertools import permutations\n",
        "\n",
        "def fun(digits):\n",
        "    res = set()\n",
        "    for p in permutations(digits,3):\n",
        "      number=p[0]*100+p[1]*10+p[2]\n",
        "      if p[0]!=0 and number%2==0:\n",
        "        res.add(number)\n",
        "\n",
        "\n",
        "\n",
        "    return sorted(res)\n",
        "digits=[1,2,0]\n",
        "print(fun(digits))"
      ],
      "metadata": {
        "colab": {
          "base_uri": "https://localhost:8080/"
        },
        "id": "MIAeFAf1byqV",
        "outputId": "38dd0e09-4a60-4c5a-9897-f40f6be26097"
      },
      "execution_count": null,
      "outputs": [
        {
          "output_type": "stream",
          "name": "stdout",
          "text": [
            "[102, 120, 210]\n"
          ]
        }
      ]
    },
    {
      "cell_type": "code",
      "source": [
        "from itertools import permutations\n",
        "\n",
        "def findEvenNumbers(digits):\n",
        "    result = set()\n",
        "\n",
        "    for p in permutations(digits, 3):\n",
        "        number = p[0]*100 + p[1]*10 + p[2]\n",
        "\n",
        "        if p[0] != 0 and number % 2 == 0:\n",
        "            result.add(number)\n",
        "\n",
        "    return sorted(result)\n",
        "digits=[1,2,0]\n",
        "print(findEvenNumbers)"
      ],
      "metadata": {
        "id": "Jbt1l6PGNC24",
        "colab": {
          "base_uri": "https://localhost:8080/"
        },
        "outputId": "18a5d33d-88fe-4560-8bbc-c0c4c101a9b4"
      },
      "execution_count": null,
      "outputs": [
        {
          "output_type": "stream",
          "name": "stdout",
          "text": [
            "[102, 120, 210]\n"
          ]
        }
      ]
    },
    {
      "cell_type": "markdown",
      "source": [
        "#best time to buy and sell stock"
      ],
      "metadata": {
        "id": "FI9t3grnfWsc"
      }
    },
    {
      "cell_type": "code",
      "source": [
        "prices = [7, 1, 5, 3, 6, 4]\n",
        "\n",
        "profit=0\n",
        "maxprofit=0\n",
        "minprice=float('inf')\n",
        "\n",
        "for p in prices:\n",
        "  if p<minprice:\n",
        "    minprice=p\n",
        "  profit=p-minprice\n",
        "  if profit>maxprofit:\n",
        "    maxprofit=profit\n",
        "print(maxprofit)\n",
        "\n"
      ],
      "metadata": {
        "colab": {
          "base_uri": "https://localhost:8080/"
        },
        "id": "ADg93nR1fa-m",
        "outputId": "ceda0bdc-74b4-44a7-87c0-04d96b573ea5"
      },
      "execution_count": null,
      "outputs": [
        {
          "output_type": "stream",
          "name": "stdout",
          "text": [
            "5\n"
          ]
        }
      ]
    },
    {
      "cell_type": "code",
      "source": [
        "a=[7, 1, 5, 3, 6, 4]\n",
        "maxprofit=0\n",
        "n=len(a)\n",
        "for i in range(n):\n",
        "  for j in range(i + 1, n):\n",
        "    profit=a[j]-a[i]\n",
        "    if profit>maxprofit:\n",
        "      maxprofit=profit\n",
        "print(maxprofit)\n"
      ],
      "metadata": {
        "colab": {
          "base_uri": "https://localhost:8080/"
        },
        "id": "BU4Fy9f9lY66",
        "outputId": "473d2597-e559-48e2-b424-1336f3ee5fb5"
      },
      "execution_count": null,
      "outputs": [
        {
          "output_type": "stream",
          "name": "stdout",
          "text": [
            "5\n"
          ]
        }
      ]
    },
    {
      "cell_type": "code",
      "source": [
        "#best time to buy stocks"
      ],
      "metadata": {
        "id": "BD2WChnGJLYf"
      },
      "execution_count": null,
      "outputs": []
    },
    {
      "cell_type": "code",
      "source": [
        "#booats\n",
        "#boats to save people\n",
        "def boats(people,limit):\n",
        "  people.sort(reverse=True)\n",
        "  l=0\n",
        "  b=0\n",
        "  r=len(people)-1\n",
        "  while l<=r:\n",
        "      if people[l]+people[r]<=limit:\n",
        "          r=r-1\n",
        "      l=l+1\n",
        "      b=b+1\n",
        "  return b\n",
        "people=[1,1,9,12,11,10,3.2]\n",
        "limit=12\n",
        "print(boats(people,limit))"
      ],
      "metadata": {
        "colab": {
          "base_uri": "https://localhost:8080/"
        },
        "id": "vHLz5zVGteYT",
        "outputId": "d19448f4-bca4-435a-ab1c-90d69ba7aa06"
      },
      "execution_count": null,
      "outputs": [
        {
          "output_type": "stream",
          "name": "stdout",
          "text": [
            "5\n"
          ]
        }
      ]
    },
    {
      "cell_type": "markdown",
      "source": [
        "#container with most water"
      ],
      "metadata": {
        "id": "xfEPrLt1aJ1l"
      }
    },
    {
      "cell_type": "code",
      "source": [
        "def maxArea(height):\n",
        "        left, right = 0, len(height) - 1\n",
        "        max_area = 0\n",
        "\n",
        "        while left < right:\n",
        "            h = min(height[left], height[right])\n",
        "            w = right - left\n",
        "            max_area = max(max_area, h * w)\n",
        "            if height[left] < height[right]:\n",
        "                left += 1\n",
        "            else:\n",
        "                right -= 1\n",
        "\n",
        "        return max_area\n",
        "height=[1,4,2,3]\n",
        "print(maxArea(height))\n"
      ],
      "metadata": {
        "colab": {
          "base_uri": "https://localhost:8080/"
        },
        "id": "FKZthZ1uaKq9",
        "outputId": "e3adfc14-541e-4aec-c1e1-a901661ded76"
      },
      "execution_count": null,
      "outputs": [
        {
          "output_type": "stream",
          "name": "stdout",
          "text": [
            "6\n"
          ]
        }
      ]
    },
    {
      "cell_type": "code",
      "source": [
        "nums = [0,1,1,1,0,0]\n",
        "k=3\n",
        "count=0\n",
        "for i in range(len(nums)-k+1):\n",
        "    if nums[i]==0:\n",
        "          nums[i]^=1\n",
        "          nums[i+1]^=1\n",
        "          nums[i+2]^=1\n",
        "          print(nums)"
      ],
      "metadata": {
        "colab": {
          "base_uri": "https://localhost:8080/"
        },
        "id": "aI1SIoy5zp8v",
        "outputId": "6c7f31ab-aacc-446f-da2d-c67139a0bd95"
      },
      "execution_count": null,
      "outputs": [
        {
          "output_type": "stream",
          "name": "stdout",
          "text": [
            "[1, 0, 0, 1, 0, 0]\n",
            "[1, 1, 1, 0, 0, 0]\n",
            "[1, 1, 1, 1, 1, 1]\n"
          ]
        }
      ]
    },
    {
      "cell_type": "code",
      "source": [
        "from collections import deque\n",
        "class TreeNode:\n",
        "    def _init_(self, data):\n",
        "        self.data=data\n",
        "        self.left=None\n",
        "        self.right=None\n",
        "    def add_child(self, root, node):\n",
        "        if root is None:\n",
        "            return TreeNode(node)\n",
        "        if root.data==node:\n",
        "            return root\n",
        "        if root.data>node:\n",
        "            root.left=self.add_child(root.left, node)\n",
        "        if root.data<node:\n",
        "            root.right=self.add_child(root.right, node)\n",
        "        return root\n",
        "def inorder(root):\n",
        "    if root is None:\n",
        "        return []\n",
        "    return inorder(root.left) + [root.data] + inorder(root.right)\n",
        "def postorder(root):\n",
        "    if root is None:\n",
        "        return []\n",
        "    return inorder(root.left)  + inorder(root.right) + [root.data]\n",
        "def preorder(root):\n",
        "    if root is None:\n",
        "        return []\n",
        "    return [root.data] +inorder(root.left) +  inorder(root.right)\n",
        "def levelorder(root):\n",
        "    if root is None:\n",
        "        return\n",
        "    queue=deque()\n",
        "    queue.append(root)\n",
        "    while queue:\n",
        "        cur=queue.popleft()\n",
        "        print(cur.data, end= ' ')\n",
        "        if cur.left:\n",
        "            levelorder(root.left)\n",
        "        if cur.right:\n",
        "            levelorder(root.right)\n",
        "\n",
        "bst= [47, 12, 75, 88, 90, 73, 57, 1, 85, 50, 62]\n",
        "root=TreeNode(bst[0])\n",
        "for node in bst[1:]:\n",
        "    root.add_child(root, node)\n",
        "print(inorder(root))\n",
        "print(postorder(root))\n",
        "print(preorder(root))\n",
        "print(levelorder(root))"
      ],
      "metadata": {
        "id": "BteOSepk4HfT"
      },
      "execution_count": null,
      "outputs": []
    },
    {
      "cell_type": "code",
      "source": [
        "edges=[\n",
        "    ('A','B'),\n",
        "    ('A','C'),\n",
        "    ('B','D'),\n",
        "    ('C','D'),\n",
        "    ('D','E')\n",
        "]\n",
        "graph={}\n",
        "\n",
        "for u,v in edges:\n",
        "    if u not in graph:\n",
        "        graph[u]=[]\n",
        "    if v not in graph:\n",
        "        graph[v]=[]\n",
        "    graph[u].append(v)\n",
        "    print(graph)\n",
        "\n",
        "for node in graph:\n",
        "    print(node,\":\",graph[node])"
      ],
      "metadata": {
        "colab": {
          "base_uri": "https://localhost:8080/"
        },
        "id": "V4VGoAhjIa0S",
        "outputId": "aad3db0e-6782-4950-ca83-35d3c71f2b7e"
      },
      "execution_count": null,
      "outputs": [
        {
          "output_type": "stream",
          "name": "stdout",
          "text": [
            "{'A': ['B'], 'B': []}\n",
            "{'A': ['B', 'C'], 'B': [], 'C': []}\n",
            "{'A': ['B', 'C'], 'B': ['D'], 'C': [], 'D': []}\n",
            "{'A': ['B', 'C'], 'B': ['D'], 'C': ['D'], 'D': []}\n",
            "{'A': ['B', 'C'], 'B': ['D'], 'C': ['D'], 'D': ['E'], 'E': []}\n",
            "A : ['B', 'C']\n",
            "B : ['D']\n",
            "C : ['D']\n",
            "D : ['E']\n",
            "E : []\n"
          ]
        }
      ]
    },
    {
      "cell_type": "code",
      "source": [],
      "metadata": {
        "id": "57c9LXN2Sb1w"
      },
      "execution_count": null,
      "outputs": []
    }
  ]
}